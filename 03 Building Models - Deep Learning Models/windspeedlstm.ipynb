{
 "cells": [
  {
   "cell_type": "markdown",
   "metadata": {
    "colab_type": "text",
    "id": "view-in-github"
   },
   "source": [
    "<a href=\"https://colab.research.google.com/github/RBENJAMINFRANKLIN/SBSPS-Challenge-1160-Predicting-the-energy-output-of-wind-turbine-based-on-weather-condition/blob/master/SBSPS-Challenge-1160-Predicting-the-energy-output-of-wind-turbine-based-on-weather-condition/03%20Building%20Models%20-%20Deep%20Learning%20Models/windspeedlstm.ipynb\" target=\"_parent\"><img src=\"https://colab.research.google.com/assets/colab-badge.svg\" alt=\"Open In Colab\"/></a>"
   ]
  },
  {
   "cell_type": "code",
   "execution_count": 1,
   "metadata": {
    "colab": {
     "base_uri": "https://localhost:8080/",
     "height": 34
    },
    "colab_type": "code",
    "id": "TR1BMBXdxklc",
    "outputId": "1c095550-fe9a-436c-ccd6-037a7795b319"
   },
   "outputs": [],
   "source": [
    "from pandas import DataFrame\n",
    "from pandas import Series\n",
    "from pandas import concat\n",
    "from pandas import read_csv\n",
    "from datetime import datetime\n",
    "from sklearn.metrics import mean_squared_error\n",
    "from sklearn.preprocessing import MinMaxScaler\n",
    "from keras.models import Sequential\n",
    "from keras.layers import Dense\n",
    "from keras.layers import LSTM\n",
    "from math import sqrt\n",
    "from matplotlib import pyplot\n",
    "import numpy as np\n",
    "import pandas as pd"
   ]
  },
  {
   "cell_type": "code",
   "execution_count": 2,
   "metadata": {
    "colab": {},
    "colab_type": "code",
    "id": "ZmEpq4Bi0PxJ"
   },
   "outputs": [],
   "source": [
    "# window_size = 10\n",
    "batch_size_exp = 1\n",
    "epoch_exp = 7\n",
    "neurons_exp = 50\n",
    "predict_values_exp = 72\n",
    "lag_exp=72"
   ]
  },
  {
   "cell_type": "code",
   "execution_count": 3,
   "metadata": {
    "colab": {},
    "colab_type": "code",
    "id": "v1tpmak40ToO"
   },
   "outputs": [],
   "source": [
    "def timeseries_to_supervised(data, lag=1):\n",
    "    df = DataFrame(data)\n",
    "    columns = [df.shift(i) for i in range(1, lag+1)]\n",
    "    columns.append(df)\n",
    "    df = concat(columns, axis=1)\n",
    "    df.fillna(0, inplace=True)\n",
    "    return df"
   ]
  },
  {
   "cell_type": "code",
   "execution_count": 4,
   "metadata": {
    "colab": {},
    "colab_type": "code",
    "id": "VTa67tPL0Vna"
   },
   "outputs": [],
   "source": [
    "\n",
    "def difference(dataset, interval=1):\n",
    "    diff = list()\n",
    "    for i in range(interval, len(dataset)):\n",
    "        value = dataset[i] - dataset[i - interval]\n",
    "        diff.append(value)\n",
    "    return Series(diff)"
   ]
  },
  {
   "cell_type": "code",
   "execution_count": 5,
   "metadata": {
    "colab": {},
    "colab_type": "code",
    "id": "kR-nqgUF0XnJ"
   },
   "outputs": [],
   "source": [
    "def inverse_difference(history, yhat, interval=1):\n",
    "    return yhat + history[-interval]"
   ]
  },
  {
   "cell_type": "code",
   "execution_count": 6,
   "metadata": {
    "colab": {},
    "colab_type": "code",
    "id": "gf01jkjT0YxQ"
   },
   "outputs": [],
   "source": [
    "def scale(data_norm):\n",
    "    scaler = MinMaxScaler(feature_range=(-1, 1))\n",
    "    scaler = scaler.fit(data_norm)\n",
    "    # transform train\n",
    "    data_norm = data_norm.reshape(data_norm.shape[0], data_norm.shape[1])\n",
    "    data_scaled = scaler.transform(data_norm)\n",
    "    return scaler, data_scaled\n"
   ]
  },
  {
   "cell_type": "code",
   "execution_count": 7,
   "metadata": {
    "colab": {},
    "colab_type": "code",
    "id": "IgxB68Ib0Z4h"
   },
   "outputs": [],
   "source": [
    "def invert_scale(scaler, X, value):\n",
    "    new_row = [x for x in X] + [value]\n",
    "    array = np.array(new_row)\n",
    "    array = array.reshape(1, len(array))\n",
    "    inverted = scaler.inverse_transform(array)\n",
    "    return inverted[0, -1]"
   ]
  },
  {
   "cell_type": "code",
   "execution_count": 8,
   "metadata": {
    "colab": {},
    "colab_type": "code",
    "id": "noSKvaT20bTF"
   },
   "outputs": [],
   "source": [
    "from keras.layers import Activation, Dense, BatchNormalization, TimeDistributed\n",
    "def fit_lstm(train, batch_size, nb_epoch, neurons):\n",
    "    X, y = train[:, 0:-1], train[:, -1]\n",
    "    X = X.reshape(X.shape[0], 1, X.shape[1])\n",
    "    model = Sequential()\n",
    "    model.add(LSTM(neurons_exp, dropout = 0.1 ,batch_input_shape=(batch_size, X.shape[1], X.shape[2]), stateful=True))\n",
    "    model.add(BatchNormalization())\n",
    "    model.add(Dense(50))\n",
    "    model.add(Activation('relu'))\n",
    "    model.add(Dense(50))\n",
    "    model.add(Activation('tanh'))\n",
    "    model.add(Dense(1))\n",
    "    model.compile(loss='mean_squared_error', optimizer='adam')\n",
    "    for i in range(nb_epoch):\n",
    "        model.fit(X, y, epochs=1, batch_size=batch_size, verbose=1, shuffle=False)\n",
    "        model.reset_states()\n",
    "    return model"
   ]
  },
  {
   "cell_type": "code",
   "execution_count": 9,
   "metadata": {
    "colab": {},
    "colab_type": "code",
    "id": "eqgYVxUX0dkg"
   },
   "outputs": [],
   "source": [
    "def forecast_lstm(model, batch_size, X):\n",
    "    X = X.reshape(1, 1, len(X))\n",
    "    #print(X)\n",
    "    yhat = model.predict(X, batch_size=1)\n",
    "    return yhat[0,0]\n"
   ]
  },
  {
   "cell_type": "code",
   "execution_count": 10,
   "metadata": {
    "colab": {
     "base_uri": "https://localhost:8080/",
     "height": 235
    },
    "colab_type": "code",
    "id": "knUxuHSJ0fWo",
    "outputId": "8af36cb7-03cf-4345-8233-9446a38c00be"
   },
   "outputs": [
    {
     "data": {
      "text/html": [
       "<div>\n",
       "<style scoped>\n",
       "    .dataframe tbody tr th:only-of-type {\n",
       "        vertical-align: middle;\n",
       "    }\n",
       "\n",
       "    .dataframe tbody tr th {\n",
       "        vertical-align: top;\n",
       "    }\n",
       "\n",
       "    .dataframe thead th {\n",
       "        text-align: right;\n",
       "    }\n",
       "</style>\n",
       "<table border=\"1\" class=\"dataframe\">\n",
       "  <thead>\n",
       "    <tr style=\"text-align: right;\">\n",
       "      <th></th>\n",
       "      <th>LV ActivePower (kW)</th>\n",
       "      <th>Wind Speed (m/s)</th>\n",
       "      <th>Theoretical_Power_Curve (KWh)</th>\n",
       "      <th>Wind Direction (°)</th>\n",
       "    </tr>\n",
       "    <tr>\n",
       "      <th>Date/Time</th>\n",
       "      <th></th>\n",
       "      <th></th>\n",
       "      <th></th>\n",
       "      <th></th>\n",
       "    </tr>\n",
       "  </thead>\n",
       "  <tbody>\n",
       "    <tr>\n",
       "      <th>01 01 2018 00:00</th>\n",
       "      <td>380.047791</td>\n",
       "      <td>5.311336</td>\n",
       "      <td>416.328908</td>\n",
       "      <td>259.994904</td>\n",
       "    </tr>\n",
       "    <tr>\n",
       "      <th>01 01 2018 00:10</th>\n",
       "      <td>453.769196</td>\n",
       "      <td>5.672167</td>\n",
       "      <td>519.917511</td>\n",
       "      <td>268.641113</td>\n",
       "    </tr>\n",
       "    <tr>\n",
       "      <th>01 01 2018 00:20</th>\n",
       "      <td>306.376587</td>\n",
       "      <td>5.216037</td>\n",
       "      <td>390.900016</td>\n",
       "      <td>272.564789</td>\n",
       "    </tr>\n",
       "    <tr>\n",
       "      <th>01 01 2018 00:30</th>\n",
       "      <td>419.645904</td>\n",
       "      <td>5.659674</td>\n",
       "      <td>516.127569</td>\n",
       "      <td>271.258087</td>\n",
       "    </tr>\n",
       "    <tr>\n",
       "      <th>01 01 2018 00:40</th>\n",
       "      <td>380.650696</td>\n",
       "      <td>5.577941</td>\n",
       "      <td>491.702972</td>\n",
       "      <td>265.674286</td>\n",
       "    </tr>\n",
       "  </tbody>\n",
       "</table>\n",
       "</div>"
      ],
      "text/plain": [
       "                  LV ActivePower (kW)  Wind Speed (m/s)  \\\n",
       "Date/Time                                                 \n",
       "01 01 2018 00:00           380.047791          5.311336   \n",
       "01 01 2018 00:10           453.769196          5.672167   \n",
       "01 01 2018 00:20           306.376587          5.216037   \n",
       "01 01 2018 00:30           419.645904          5.659674   \n",
       "01 01 2018 00:40           380.650696          5.577941   \n",
       "\n",
       "                  Theoretical_Power_Curve (KWh)  Wind Direction (°)  \n",
       "Date/Time                                                            \n",
       "01 01 2018 00:00                     416.328908          259.994904  \n",
       "01 01 2018 00:10                     519.917511          268.641113  \n",
       "01 01 2018 00:20                     390.900016          272.564789  \n",
       "01 01 2018 00:30                     516.127569          271.258087  \n",
       "01 01 2018 00:40                     491.702972          265.674286  "
      ]
     },
     "execution_count": 10,
     "metadata": {},
     "output_type": "execute_result"
    }
   ],
   "source": [
    "import pandas as pd\n",
    "series = pd.read_csv('../data/T1.csv',index_col=\"Date/Time\")\n",
    "series.head()"
   ]
  },
  {
   "cell_type": "code",
   "execution_count": 11,
   "metadata": {
    "colab": {
     "base_uri": "https://localhost:8080/",
     "height": 235
    },
    "colab_type": "code",
    "id": "4WP9lE4I0leY",
    "outputId": "606e8127-2b48-464d-bef9-076a9ea7bf80"
   },
   "outputs": [
    {
     "data": {
      "text/html": [
       "<div>\n",
       "<style scoped>\n",
       "    .dataframe tbody tr th:only-of-type {\n",
       "        vertical-align: middle;\n",
       "    }\n",
       "\n",
       "    .dataframe tbody tr th {\n",
       "        vertical-align: top;\n",
       "    }\n",
       "\n",
       "    .dataframe thead th {\n",
       "        text-align: right;\n",
       "    }\n",
       "</style>\n",
       "<table border=\"1\" class=\"dataframe\">\n",
       "  <thead>\n",
       "    <tr style=\"text-align: right;\">\n",
       "      <th></th>\n",
       "      <th>Wind Speed (m/s)</th>\n",
       "    </tr>\n",
       "    <tr>\n",
       "      <th>Date/Time</th>\n",
       "      <th></th>\n",
       "    </tr>\n",
       "  </thead>\n",
       "  <tbody>\n",
       "    <tr>\n",
       "      <th>01 01 2018 00:00</th>\n",
       "      <td>5.311336</td>\n",
       "    </tr>\n",
       "    <tr>\n",
       "      <th>01 01 2018 00:10</th>\n",
       "      <td>5.672167</td>\n",
       "    </tr>\n",
       "    <tr>\n",
       "      <th>01 01 2018 00:20</th>\n",
       "      <td>5.216037</td>\n",
       "    </tr>\n",
       "    <tr>\n",
       "      <th>01 01 2018 00:30</th>\n",
       "      <td>5.659674</td>\n",
       "    </tr>\n",
       "    <tr>\n",
       "      <th>01 01 2018 00:40</th>\n",
       "      <td>5.577941</td>\n",
       "    </tr>\n",
       "  </tbody>\n",
       "</table>\n",
       "</div>"
      ],
      "text/plain": [
       "                  Wind Speed (m/s)\n",
       "Date/Time                         \n",
       "01 01 2018 00:00          5.311336\n",
       "01 01 2018 00:10          5.672167\n",
       "01 01 2018 00:20          5.216037\n",
       "01 01 2018 00:30          5.659674\n",
       "01 01 2018 00:40          5.577941"
      ]
     },
     "execution_count": 11,
     "metadata": {},
     "output_type": "execute_result"
    }
   ],
   "source": [
    "#del series['Air temperature | (\\'C)']\n",
    "del series['LV ActivePower (kW)']\n",
    "del series['Wind Direction (°)']\n",
    "del series['Theoretical_Power_Curve (KWh)']\n",
    "series.head()"
   ]
  },
  {
   "cell_type": "code",
   "execution_count": 12,
   "metadata": {
    "colab": {
     "base_uri": "https://localhost:8080/",
     "height": 235
    },
    "colab_type": "code",
    "id": "OXbEnc110qpi",
    "outputId": "7ca68ad3-9b71-4e15-9e37-60a5471644a9"
   },
   "outputs": [
    {
     "data": {
      "text/html": [
       "<div>\n",
       "<style scoped>\n",
       "    .dataframe tbody tr th:only-of-type {\n",
       "        vertical-align: middle;\n",
       "    }\n",
       "\n",
       "    .dataframe tbody tr th {\n",
       "        vertical-align: top;\n",
       "    }\n",
       "\n",
       "    .dataframe thead th {\n",
       "        text-align: right;\n",
       "    }\n",
       "</style>\n",
       "<table border=\"1\" class=\"dataframe\">\n",
       "  <thead>\n",
       "    <tr style=\"text-align: right;\">\n",
       "      <th></th>\n",
       "      <th>Wind Speed (m/s)</th>\n",
       "    </tr>\n",
       "    <tr>\n",
       "      <th>Date/Time</th>\n",
       "      <th></th>\n",
       "    </tr>\n",
       "  </thead>\n",
       "  <tbody>\n",
       "    <tr>\n",
       "      <th>31 12 2018 21:30</th>\n",
       "      <td>8.472826</td>\n",
       "    </tr>\n",
       "    <tr>\n",
       "      <th>31 12 2018 21:40</th>\n",
       "      <td>8.433422</td>\n",
       "    </tr>\n",
       "    <tr>\n",
       "      <th>31 12 2018 21:50</th>\n",
       "      <td>9.976660</td>\n",
       "    </tr>\n",
       "    <tr>\n",
       "      <th>31 12 2018 22:00</th>\n",
       "      <td>10.416830</td>\n",
       "    </tr>\n",
       "    <tr>\n",
       "      <th>31 12 2018 22:10</th>\n",
       "      <td>10.713670</td>\n",
       "    </tr>\n",
       "  </tbody>\n",
       "</table>\n",
       "</div>"
      ],
      "text/plain": [
       "                  Wind Speed (m/s)\n",
       "Date/Time                         \n",
       "31 12 2018 21:30          8.472826\n",
       "31 12 2018 21:40          8.433422\n",
       "31 12 2018 21:50          9.976660\n",
       "31 12 2018 22:00         10.416830\n",
       "31 12 2018 22:10         10.713670"
      ]
     },
     "execution_count": 12,
     "metadata": {},
     "output_type": "execute_result"
    }
   ],
   "source": [
    "for i in range(0,10):\n",
    "  series = series[:-1]\n",
    "series.tail()"
   ]
  },
  {
   "cell_type": "code",
   "execution_count": 13,
   "metadata": {
    "colab": {
     "base_uri": "https://localhost:8080/",
     "height": 34
    },
    "colab_type": "code",
    "id": "8qdNuBB60sN-",
    "outputId": "d6389284-a042-4f23-8ca2-30384129ad9b"
   },
   "outputs": [
    {
     "data": {
      "text/plain": [
       "(50520, 1)"
      ]
     },
     "execution_count": 13,
     "metadata": {},
     "output_type": "execute_result"
    }
   ],
   "source": [
    "series.shape"
   ]
  },
  {
   "cell_type": "code",
   "execution_count": 14,
   "metadata": {
    "colab": {},
    "colab_type": "code",
    "id": "ab5zigFI0uBr"
   },
   "outputs": [],
   "source": [
    "raw_values = series.values\n",
    "diff_values = difference(raw_values, 1)"
   ]
  },
  {
   "cell_type": "code",
   "execution_count": 15,
   "metadata": {
    "colab": {},
    "colab_type": "code",
    "id": "5pFnr9di0vRD"
   },
   "outputs": [],
   "source": [
    "# transform data to be supervised learning\n",
    "supervised = timeseries_to_supervised(diff_values, lag_exp)\n",
    "supervised_values = supervised.values"
   ]
  },
  {
   "cell_type": "code",
   "execution_count": 16,
   "metadata": {
    "colab": {},
    "colab_type": "code",
    "id": "7ypclNF50xHv"
   },
   "outputs": [],
   "source": [
    "# split data into train and test-sets\n",
    "scaler,supervised_values = scale(supervised_values)\n",
    "train_scaled, test_scaled = supervised_values[0:-predict_values_exp], supervised_values[-predict_values_exp:]\n",
    "#print(test_scaled)"
   ]
  },
  {
   "cell_type": "code",
   "execution_count": 17,
   "metadata": {
    "colab": {
     "base_uri": "https://localhost:8080/",
     "height": 255
    },
    "colab_type": "code",
    "id": "mLsnGs0L0yaR",
    "outputId": "ae1e7526-b2f6-4fac-95cb-5c78f3d769f6"
   },
   "outputs": [
    {
     "name": "stdout",
     "output_type": "stream",
     "text": [
      "50447/50447 [==============================] - 155s 3ms/step - loss: 0.0018\n",
      "50447/50447 [==============================] - 152s 3ms/step - loss: 0.0018\n",
      "50447/50447 [==============================] - 176s 3ms/step - loss: 0.0018\n",
      "50447/50447 [==============================] - 175s 3ms/step - loss: 0.0018\n",
      "50447/50447 [==============================] - 167s 3ms/step - loss: 0.0018\n",
      "50447/50447 [==============================] - 148s 3ms/step - loss: 0.0018\n",
      "50447/50447 [==============================] - 154s 3ms/step - loss: 0.0018\n"
     ]
    }
   ],
   "source": [
    "lstm_model = fit_lstm(train_scaled, batch_size_exp, epoch_exp, neurons_exp)\n"
   ]
  },
  {
   "cell_type": "code",
   "execution_count": 18,
   "metadata": {
    "colab": {},
    "colab_type": "code",
    "id": "LzMU3Fg4003F"
   },
   "outputs": [
    {
     "name": "stdout",
     "output_type": "stream",
     "text": [
      "1/1 [==============================] - 1s 1s/step\n",
      "1/1 [==============================] - 0s 27ms/step\n",
      "1/1 [==============================] - 0s 27ms/step\n",
      "1/1 [==============================] - 0s 25ms/step\n",
      "1/1 [==============================] - 0s 27ms/step\n",
      "1/1 [==============================] - 0s 25ms/step\n",
      "1/1 [==============================] - 0s 28ms/step\n",
      "1/1 [==============================] - 0s 33ms/step\n",
      "1/1 [==============================] - 0s 28ms/step\n",
      "1/1 [==============================] - 0s 27ms/step\n",
      "1/1 [==============================] - 0s 27ms/step\n",
      "1/1 [==============================] - 0s 30ms/step\n",
      "1/1 [==============================] - 0s 26ms/step\n",
      "1/1 [==============================] - 0s 33ms/step\n",
      "1/1 [==============================] - 0s 32ms/step\n",
      "1/1 [==============================] - 0s 32ms/step\n",
      "1/1 [==============================] - 0s 26ms/step\n",
      "1/1 [==============================] - 0s 34ms/step\n",
      "1/1 [==============================] - 0s 26ms/step\n",
      "1/1 [==============================] - 0s 25ms/step\n",
      "1/1 [==============================] - 0s 27ms/step\n",
      "1/1 [==============================] - 0s 27ms/step\n",
      "1/1 [==============================] - 0s 26ms/step\n",
      "1/1 [==============================] - 0s 26ms/step\n",
      "1/1 [==============================] - 0s 26ms/step\n",
      "1/1 [==============================] - 0s 27ms/step\n",
      "1/1 [==============================] - 0s 26ms/step\n",
      "1/1 [==============================] - 0s 25ms/step\n",
      "1/1 [==============================] - 0s 33ms/step\n",
      "1/1 [==============================] - 0s 25ms/step\n",
      "1/1 [==============================] - 0s 30ms/step\n",
      "1/1 [==============================] - 0s 27ms/step\n",
      "1/1 [==============================] - 0s 26ms/step\n",
      "1/1 [==============================] - 0s 26ms/step\n",
      "1/1 [==============================] - 0s 27ms/step\n",
      "1/1 [==============================] - 0s 26ms/step\n",
      "1/1 [==============================] - 0s 27ms/step\n",
      "1/1 [==============================] - 0s 27ms/step\n",
      "1/1 [==============================] - 0s 25ms/step\n",
      "1/1 [==============================] - 0s 26ms/step\n",
      "1/1 [==============================] - 0s 24ms/step\n",
      "1/1 [==============================] - 0s 28ms/step\n",
      "1/1 [==============================] - 0s 27ms/step\n",
      "1/1 [==============================] - 0s 25ms/step\n",
      "1/1 [==============================] - 0s 28ms/step\n",
      "1/1 [==============================] - 0s 26ms/step\n",
      "1/1 [==============================] - 0s 27ms/step\n",
      "1/1 [==============================] - 0s 24ms/step\n",
      "1/1 [==============================] - 0s 26ms/step\n",
      "1/1 [==============================] - 0s 27ms/step\n",
      "1/1 [==============================] - 0s 26ms/step\n",
      "1/1 [==============================] - 0s 25ms/step\n",
      "1/1 [==============================] - 0s 26ms/step\n",
      "1/1 [==============================] - 0s 26ms/step\n",
      "1/1 [==============================] - 0s 26ms/step\n",
      "1/1 [==============================] - 0s 27ms/step\n",
      "1/1 [==============================] - 0s 27ms/step\n",
      "1/1 [==============================] - 0s 27ms/step\n",
      "1/1 [==============================] - 0s 26ms/step\n",
      "1/1 [==============================] - 0s 26ms/step\n",
      "1/1 [==============================] - 0s 26ms/step\n",
      "1/1 [==============================] - 0s 25ms/step\n",
      "1/1 [==============================] - 0s 25ms/step\n",
      "1/1 [==============================] - 0s 26ms/step\n",
      "1/1 [==============================] - 0s 26ms/step\n",
      "1/1 [==============================] - 0s 26ms/step\n",
      "1/1 [==============================] - 0s 27ms/step\n",
      "1/1 [==============================] - 0s 25ms/step\n",
      "1/1 [==============================] - 0s 26ms/step\n",
      "1/1 [==============================] - 0s 27ms/step\n",
      "1/1 [==============================] - 0s 26ms/step\n",
      "1/1 [==============================] - 0s 26ms/step\n"
     ]
    }
   ],
   "source": [
    "# walk-forward validation on the test data\n",
    "predictions = list()\n",
    "expectations = list()\n",
    "test_pred = list()\n",
    "\n",
    "for i in range(len(test_scaled)):\n",
    "#     window_prediction_frame = test_scaled\n",
    "#     test_pred = list()\n",
    "#     for j in range(window_size):\n",
    "#         X, y = window_prediction_frame[i, 0:-1], window_prediction_frame[i, -1]\n",
    "#         yhat = forecast_lstm(lstm_model, 1, X)#batch_size_exp to 1\n",
    "    X, y = test_scaled[i, 0:-1], test_scaled[i, -1]\n",
    "    yhat = forecast_lstm(lstm_model, 1, X)#batch_size_exp to 1\n",
    "    '''# Start Debug prints\n",
    "    print(\"X: %\", X)\n",
    "    print(\"yhat: %\", yhat)\n",
    "    # End Debug prints'''\n",
    "    # Replacing value in test scaled with the predicted value.\n",
    "    test_pred = [yhat] + test_pred \n",
    "    if len(test_pred) > lag_exp+1:\n",
    "        test_pred = test_pred[:-1]\n",
    "    if i+1<len(test_scaled):\n",
    "        if i+1 > lag_exp+1:\n",
    "            test_scaled[i+1] = test_pred\n",
    "        else:\n",
    "            test_scaled[i+1] = np.concatenate((test_pred, test_scaled[i+1, i+1:]),axis=0)\n",
    "\n",
    "    # invert scaling\n",
    "    yhat = invert_scale(scaler, X, yhat)\n",
    "    # invert differencing\n",
    "    yhat = inverse_difference(raw_values, yhat, len(test_scaled)+1-i)\n",
    "    # store forecast\n",
    "    expected = raw_values[len(train_scaled) + i + 1]\n",
    "    if expected != 0:\n",
    "        predictions.append(yhat)\n",
    "        expectations.append(expected)\n",
    "    #print('Hour=%d, Predicted=%f, Expected=%f' % (i+1, yhat, expected))\n"
   ]
  },
  {
   "cell_type": "code",
   "execution_count": 19,
   "metadata": {
    "colab": {
     "base_uri": "https://localhost:8080/",
     "height": 34
    },
    "colab_type": "code",
    "id": "dwWZfkNe79hz",
    "outputId": "002fd41e-50db-4d7a-f854-71f9b42601a2"
   },
   "outputs": [
    {
     "name": "stdout",
     "output_type": "stream",
     "text": [
      "Mean Absolute Percent Error:  9.121025770618724\n",
      "[[ 2.99801819]\n",
      " [ 2.42521281]\n",
      " [ 2.56309681]\n",
      " [ 2.73395108]\n",
      " [ 2.47661643]\n",
      " [ 1.64768844]\n",
      " [ 2.34081111]\n",
      " [ 2.44486429]\n",
      " [ 2.99421995]\n",
      " [ 2.75239865]\n",
      " [ 3.8961442 ]\n",
      " [ 3.05904693]\n",
      " [ 2.88949952]\n",
      " [ 2.66038171]\n",
      " [ 2.85317179]\n",
      " [ 3.13274726]\n",
      " [ 3.80668875]\n",
      " [ 3.01731681]\n",
      " [ 2.94487535]\n",
      " [ 2.60602393]\n",
      " [ 2.71238319]\n",
      " [ 3.5966293 ]\n",
      " [ 4.49444047]\n",
      " [ 4.3316797 ]\n",
      " [ 3.99082879]\n",
      " [ 4.05619346]\n",
      " [ 4.17519406]\n",
      " [ 4.46446857]\n",
      " [ 5.26599117]\n",
      " [ 5.85353136]\n",
      " [ 5.81131383]\n",
      " [ 6.06313683]\n",
      " [ 5.86171598]\n",
      " [ 5.42933312]\n",
      " [ 5.98440416]\n",
      " [ 7.61129774]\n",
      " [ 8.212597  ]\n",
      " [ 8.13378857]\n",
      " [ 8.55575462]\n",
      " [ 7.88595879]\n",
      " [ 5.72351672]\n",
      " [ 4.79083097]\n",
      " [ 4.5839221 ]\n",
      " [ 4.76034051]\n",
      " [ 4.46962919]\n",
      " [ 4.55697661]\n",
      " [ 4.50165533]\n",
      " [ 4.49262562]\n",
      " [ 4.52684654]\n",
      " [ 4.78969011]\n",
      " [ 4.77485002]\n",
      " [ 4.84885837]\n",
      " [ 4.98075467]\n",
      " [ 5.18362401]\n",
      " [ 5.75376112]\n",
      " [ 5.4377906 ]\n",
      " [ 6.12896875]\n",
      " [ 7.91336092]\n",
      " [ 8.33109906]\n",
      " [ 8.68939246]\n",
      " [ 8.16517428]\n",
      " [ 7.4894342 ]\n",
      " [ 7.48241999]\n",
      " [ 7.71520904]\n",
      " [ 8.96132052]\n",
      " [ 9.6916003 ]\n",
      " [ 8.48902902]\n",
      " [ 9.63126335]\n",
      " [ 8.45882755]\n",
      " [ 8.41974636]\n",
      " [ 9.95880707]\n",
      " [10.39909244]]\n"
     ]
    }
   ],
   "source": [
    "expectations = np.array(expectations)\n",
    "predictions = np.array(predictions)\n",
    "print(\"Mean Absolute Percent Error: \", (np.mean(np.abs((expectations - predictions) / expectations.mean()))*100))\n",
    "print(predictions)"
   ]
  },
  {
   "cell_type": "code",
   "execution_count": 20,
   "metadata": {
    "colab": {
     "base_uri": "https://localhost:8080/",
     "height": 406
    },
    "colab_type": "code",
    "id": "cPPDZPiz8BiD",
    "outputId": "f01eae64-751f-4444-f99a-36c841fe2a22",
    "scrolled": true
   },
   "outputs": [
    {
     "data": {
      "image/png": "[encoded data removed]",
      "text/plain": [
       "<Figure size 432x288 with 1 Axes>"
      ]
     },
     "metadata": {
      "needs_background": "light"
     },
     "output_type": "display_data"
    }
   ],
   "source": [
    "# line plot of observed vs predicted\n",
    "# fig = pyplot.figure(figsize=(20,8))\n",
    "pyplot.plot(expectations, label=\"True\")\n",
    "pyplot.plot(predictions, label=\"Predicted\")\n",
    "pyplot.legend(loc='upper right')\n",
    "pyplot.xlabel(\"Number of hours\")\n",
    "pyplot.ylabel(\"wind speed\")\n",
    "pyplot.show()"
   ]
  },
  {
   "cell_type": "code",
   "execution_count": 21,
   "metadata": {
    "colab": {},
    "colab_type": "code",
    "id": "_9EHPGkn-ERj"
   },
   "outputs": [],
   "source": [
    "# import pickle "
   ]
  },
  {
   "cell_type": "code",
   "execution_count": 22,
   "metadata": {
    "colab": {},
    "colab_type": "code",
    "id": "7DQjuT6Y29En"
   },
   "outputs": [],
   "source": [
    "Pkl_Filename = \"Pickle_RL1_Model.h5\"  \n",
    "\n",
    "lstm_model.save(Pkl_Filename)"
   ]
  },
  {
   "cell_type": "code",
   "execution_count": 23,
   "metadata": {
    "colab": {
     "base_uri": "https://localhost:8080/",
     "height": 34
    },
    "colab_type": "code",
    "id": "jjGlnvde2_TA",
    "outputId": "765935b4-675b-4b38-a482-5378235b34e6"
   },
   "outputs": [
    {
     "name": "stdout",
     "output_type": "stream",
     "text": [
      "Model: \"sequential\"\n",
      "_________________________________________________________________\n",
      " Layer (type)                Output Shape              Param #   \n",
      "=================================================================\n",
      " lstm (LSTM)                 (1, 50)                   24600     \n",
      "                                                                 \n",
      " batch_normalization (BatchN  (1, 50)                  200       \n",
      " ormalization)                                                   \n",
      "                                                                 \n",
      " dense (Dense)               (1, 50)                   2550      \n",
      "                                                                 \n",
      " activation (Activation)     (1, 50)                   0         \n",
      "                                                                 \n",
      " dense_1 (Dense)             (1, 50)                   2550      \n",
      "                                                                 \n",
      " activation_1 (Activation)   (1, 50)                   0         \n",
      "                                                                 \n",
      " dense_2 (Dense)             (1, 1)                    51        \n",
      "                                                                 \n",
      "=================================================================\n",
      "Total params: 29,951\n",
      "Trainable params: 29,851\n",
      "Non-trainable params: 100\n",
      "_________________________________________________________________\n"
     ]
    }
   ],
   "source": [
    "from keras.models import load_model \n",
    "    \n",
    "Pickled_LR_Model = load_model(Pkl_Filename)\n",
    "\n",
    "Pickled_LR_Model.summary()"
   ]
  },
  {
   "cell_type": "code",
   "execution_count": 24,
   "metadata": {
    "colab": {},
    "colab_type": "code",
    "id": "OGVXQMlM3DoS"
   },
   "outputs": [
    {
     "name": "stdout",
     "output_type": "stream",
     "text": [
      "72\n",
      "72\n",
      "Score:  91.57634438624349\n"
     ]
    }
   ],
   "source": [
    "from sklearn.metrics import r2_score, mean_squared_error\n",
    "\n",
    "print(len(expectations))\n",
    "print(len(predictions))\n",
    "\n",
    "print('Score: ', r2_score(expectations, predictions) * 100)\n"
   ]
  },
  {
   "cell_type": "code",
   "execution_count": null,
   "metadata": {
    "colab": {},
    "colab_type": "code",
    "id": "LgUfot0k3Lmh"
   },
   "outputs": [],
   "source": []
  }
 ],
 "metadata": {
  "accelerator": "GPU",
  "colab": {
   "authorship_tag": "ABX9TyN/SvYYCiiLYdpjufPt4UDa",
   "include_colab_link": true,
   "mount_file_id": "1Ue2NIlfm_pjj7aIOu6sKvWB6IVd29wX2",
   "name": "windspeedlstm.ipynb",
   "provenance": []
  },
  "kernelspec": {
   "display_name": "Python 3 (ipykernel)",
   "language": "python",
   "name": "python3"
  },
  "language_info": {
   "codemirror_mode": {
    "name": "ipython",
    "version": 3
   },
   "file_extension": ".py",
   "mimetype": "text/x-python",
   "name": "python",
   "nbconvert_exporter": "python",
   "pygments_lexer": "ipython3",
   "version": "3.9.12"
  }
 },
 "nbformat": 4,
 "nbformat_minor": 1
}
