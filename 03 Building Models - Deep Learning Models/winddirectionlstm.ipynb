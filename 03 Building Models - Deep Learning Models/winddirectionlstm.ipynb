{
 "cells": [
  {
   "cell_type": "markdown",
   "metadata": {
    "colab_type": "text",
    "id": "view-in-github"
   },
   "source": [
    "<a href=\"https://colab.research.google.com/github/RBENJAMINFRANKLIN/SBSPS-Challenge-1160-Predicting-the-energy-output-of-wind-turbine-based-on-weather-condition/blob/master/SBSPS-Challenge-1160-Predicting-the-energy-output-of-wind-turbine-based-on-weather-condition/03%20Building%20Models%20-%20Deep%20Learning%20Models/winddirectionlstm.ipynb\" target=\"_parent\"><img src=\"https://colab.research.google.com/assets/colab-badge.svg\" alt=\"Open In Colab\"/></a>"
   ]
  },
  {
   "cell_type": "code",
   "execution_count": 1,
   "metadata": {
    "colab": {
     "base_uri": "https://localhost:8080/",
     "height": 34
    },
    "colab_type": "code",
    "id": "0zWJGXWcBOxd",
    "outputId": "5c2bda36-7b7f-4cb6-e1b8-554ebc203cb7"
   },
   "outputs": [],
   "source": [
    "from pandas import DataFrame\n",
    "from pandas import Series\n",
    "from pandas import concat\n",
    "from pandas import read_csv\n",
    "from datetime import datetime\n",
    "from sklearn.metrics import mean_squared_error\n",
    "from sklearn.preprocessing import MinMaxScaler\n",
    "from keras.models import Sequential\n",
    "from keras.layers import Dense\n",
    "from keras.layers import LSTM\n",
    "from math import sqrt\n",
    "from matplotlib import pyplot\n",
    "import numpy as np\n",
    "import pandas as pd"
   ]
  },
  {
   "cell_type": "code",
   "execution_count": 2,
   "metadata": {
    "colab": {},
    "colab_type": "code",
    "id": "am4BRxZVCtyX"
   },
   "outputs": [],
   "source": [
    "batch_size_exp = 1\n",
    "epoch_exp = 7\n",
    "neurons_exp = 10\n",
    "predict_values_exp = 72\n",
    "lag_exp=24"
   ]
  },
  {
   "cell_type": "code",
   "execution_count": 3,
   "metadata": {
    "colab": {},
    "colab_type": "code",
    "id": "aMXFUORBCxFo"
   },
   "outputs": [],
   "source": [
    "# frame a sequence as a supervised learning problem\n",
    "def timeseries_to_supervised(data, lag=1):\n",
    "    df = DataFrame(data)\n",
    "    columns = [df.shift(i) for i in range(1, lag+1)]\n",
    "    columns.append(df)\n",
    "    df = concat(columns, axis=1)\n",
    "    df.fillna(0, inplace=True)\n",
    "    return df"
   ]
  },
  {
   "cell_type": "code",
   "execution_count": 4,
   "metadata": {
    "colab": {},
    "colab_type": "code",
    "id": "km87OuedCz4I"
   },
   "outputs": [],
   "source": [
    "\n",
    "# create a differenced series\n",
    "def difference(dataset, interval=1):\n",
    "    diff = list()\n",
    "    for i in range(interval, len(dataset)):\n",
    "        value = dataset[i] - dataset[i - interval]\n",
    "        diff.append(value)\n",
    "    return Series(diff)"
   ]
  },
  {
   "cell_type": "code",
   "execution_count": 5,
   "metadata": {
    "colab": {},
    "colab_type": "code",
    "id": "6RAhKAsbC1di"
   },
   "outputs": [],
   "source": [
    "# invert differenced value\n",
    "def inverse_difference(history, yhat, interval=1):\n",
    "    return yhat + history[-interval]"
   ]
  },
  {
   "cell_type": "code",
   "execution_count": 6,
   "metadata": {
    "colab": {},
    "colab_type": "code",
    "id": "P7S0KecQC3Gh"
   },
   "outputs": [],
   "source": [
    "# scale train and test data to [-1, 1]\n",
    "def scale(train, test):\n",
    "    # fit scaler\n",
    "    scaler = MinMaxScaler(feature_range=(-1, 1))\n",
    "    scaler = scaler.fit(train)\n",
    "    # transform train\n",
    "    train = train.reshape(train.shape[0], train.shape[1])\n",
    "    train_scaled = scaler.transform(train)\n",
    "    # transform test\n",
    "    test = test.reshape(test.shape[0], test.shape[1])\n",
    "    test_scaled = scaler.transform(test)\n",
    "    return scaler, train_scaled, test_scaled"
   ]
  },
  {
   "cell_type": "code",
   "execution_count": 7,
   "metadata": {
    "colab": {},
    "colab_type": "code",
    "id": "2Z37GxJqC4pc"
   },
   "outputs": [],
   "source": [
    "# inverse scaling for a forecasted value\n",
    "def invert_scale(scaler, X, value):\n",
    "    new_row = [x for x in X] + [value]\n",
    "    array = np.array(new_row)\n",
    "    array = array.reshape(1, len(array))\n",
    "    inverted = scaler.inverse_transform(array)\n",
    "    return inverted[0, -1]\n",
    "    "
   ]
  },
  {
   "cell_type": "code",
   "execution_count": 8,
   "metadata": {
    "colab": {},
    "colab_type": "code",
    "id": "l5y2fNxHC6EE"
   },
   "outputs": [],
   "source": [
    "\n",
    "# fit an LSTM network to training data\n",
    "def fit_lstm(train, batch_size, nb_epoch, neurons):\n",
    "    X, y = train[:, 0:-1], train[:, -1]\n",
    "    X = X.reshape(X.shape[0], 1, X.shape[1])\n",
    "    model = Sequential()\n",
    "    model.add(LSTM(neurons, batch_input_shape=(batch_size, X.shape[1], X.shape[2]), stateful=True))\n",
    "    model.add(Dense(1))\n",
    "    model.compile(loss='mean_squared_error', optimizer='adam')\n",
    "    for i in range(nb_epoch):\n",
    "        model.fit(X, y, epochs=1, batch_size=batch_size, verbose=1, shuffle=False)\n",
    "        model.reset_states()\n",
    "    return model"
   ]
  },
  {
   "cell_type": "code",
   "execution_count": 9,
   "metadata": {
    "colab": {},
    "colab_type": "code",
    "id": "z1wE-BtqC8Pp"
   },
   "outputs": [],
   "source": [
    "# make a one-step forecast\n",
    "def forecast_lstm(model, batch_size, X):\n",
    "    X = X.reshape(1, 1, len(X))\n",
    "    #print(X)\n",
    "    yhat = model.predict(X, batch_size=1)\n",
    "    return yhat[0,0]"
   ]
  },
  {
   "cell_type": "code",
   "execution_count": 10,
   "metadata": {
    "colab": {
     "base_uri": "https://localhost:8080/",
     "height": 235
    },
    "colab_type": "code",
    "id": "Rq5f-ANwC-6f",
    "outputId": "efa0c776-ea2b-4869-99a8-ec3cea8aa1bb"
   },
   "outputs": [
    {
     "data": {
      "text/html": [
       "<div>\n",
       "<style scoped>\n",
       "    .dataframe tbody tr th:only-of-type {\n",
       "        vertical-align: middle;\n",
       "    }\n",
       "\n",
       "    .dataframe tbody tr th {\n",
       "        vertical-align: top;\n",
       "    }\n",
       "\n",
       "    .dataframe thead th {\n",
       "        text-align: right;\n",
       "    }\n",
       "</style>\n",
       "<table border=\"1\" class=\"dataframe\">\n",
       "  <thead>\n",
       "    <tr style=\"text-align: right;\">\n",
       "      <th></th>\n",
       "      <th>LV ActivePower (kW)</th>\n",
       "      <th>Wind Speed (m/s)</th>\n",
       "      <th>Theoretical_Power_Curve (KWh)</th>\n",
       "      <th>Wind Direction (°)</th>\n",
       "    </tr>\n",
       "    <tr>\n",
       "      <th>Date/Time</th>\n",
       "      <th></th>\n",
       "      <th></th>\n",
       "      <th></th>\n",
       "      <th></th>\n",
       "    </tr>\n",
       "  </thead>\n",
       "  <tbody>\n",
       "    <tr>\n",
       "      <th>01 01 2018 00:00</th>\n",
       "      <td>380.047791</td>\n",
       "      <td>5.311336</td>\n",
       "      <td>416.328908</td>\n",
       "      <td>259.994904</td>\n",
       "    </tr>\n",
       "    <tr>\n",
       "      <th>01 01 2018 00:10</th>\n",
       "      <td>453.769196</td>\n",
       "      <td>5.672167</td>\n",
       "      <td>519.917511</td>\n",
       "      <td>268.641113</td>\n",
       "    </tr>\n",
       "    <tr>\n",
       "      <th>01 01 2018 00:20</th>\n",
       "      <td>306.376587</td>\n",
       "      <td>5.216037</td>\n",
       "      <td>390.900016</td>\n",
       "      <td>272.564789</td>\n",
       "    </tr>\n",
       "    <tr>\n",
       "      <th>01 01 2018 00:30</th>\n",
       "      <td>419.645904</td>\n",
       "      <td>5.659674</td>\n",
       "      <td>516.127569</td>\n",
       "      <td>271.258087</td>\n",
       "    </tr>\n",
       "    <tr>\n",
       "      <th>01 01 2018 00:40</th>\n",
       "      <td>380.650696</td>\n",
       "      <td>5.577941</td>\n",
       "      <td>491.702972</td>\n",
       "      <td>265.674286</td>\n",
       "    </tr>\n",
       "  </tbody>\n",
       "</table>\n",
       "</div>"
      ],
      "text/plain": [
       "                  LV ActivePower (kW)  Wind Speed (m/s)  \\\n",
       "Date/Time                                                 \n",
       "01 01 2018 00:00           380.047791          5.311336   \n",
       "01 01 2018 00:10           453.769196          5.672167   \n",
       "01 01 2018 00:20           306.376587          5.216037   \n",
       "01 01 2018 00:30           419.645904          5.659674   \n",
       "01 01 2018 00:40           380.650696          5.577941   \n",
       "\n",
       "                  Theoretical_Power_Curve (KWh)  Wind Direction (°)  \n",
       "Date/Time                                                            \n",
       "01 01 2018 00:00                     416.328908          259.994904  \n",
       "01 01 2018 00:10                     519.917511          268.641113  \n",
       "01 01 2018 00:20                     390.900016          272.564789  \n",
       "01 01 2018 00:30                     516.127569          271.258087  \n",
       "01 01 2018 00:40                     491.702972          265.674286  "
      ]
     },
     "execution_count": 10,
     "metadata": {},
     "output_type": "execute_result"
    }
   ],
   "source": [
    "\n",
    "''' Loading data '''\n",
    "import pandas as pd\n",
    "series = pd.read_csv('../data/T1.csv',index_col=\"Date/Time\")\n",
    "series.head()"
   ]
  },
  {
   "cell_type": "code",
   "execution_count": 11,
   "metadata": {
    "colab": {
     "base_uri": "https://localhost:8080/",
     "height": 235
    },
    "colab_type": "code",
    "id": "Gse6FVhlDuPj",
    "outputId": "fc35fef0-fff0-4f66-aabc-92748887ae31"
   },
   "outputs": [
    {
     "data": {
      "text/html": [
       "<div>\n",
       "<style scoped>\n",
       "    .dataframe tbody tr th:only-of-type {\n",
       "        vertical-align: middle;\n",
       "    }\n",
       "\n",
       "    .dataframe tbody tr th {\n",
       "        vertical-align: top;\n",
       "    }\n",
       "\n",
       "    .dataframe thead th {\n",
       "        text-align: right;\n",
       "    }\n",
       "</style>\n",
       "<table border=\"1\" class=\"dataframe\">\n",
       "  <thead>\n",
       "    <tr style=\"text-align: right;\">\n",
       "      <th></th>\n",
       "      <th>Wind Direction (°)</th>\n",
       "    </tr>\n",
       "    <tr>\n",
       "      <th>Date/Time</th>\n",
       "      <th></th>\n",
       "    </tr>\n",
       "  </thead>\n",
       "  <tbody>\n",
       "    <tr>\n",
       "      <th>01 01 2018 00:00</th>\n",
       "      <td>259.994904</td>\n",
       "    </tr>\n",
       "    <tr>\n",
       "      <th>01 01 2018 00:10</th>\n",
       "      <td>268.641113</td>\n",
       "    </tr>\n",
       "    <tr>\n",
       "      <th>01 01 2018 00:20</th>\n",
       "      <td>272.564789</td>\n",
       "    </tr>\n",
       "    <tr>\n",
       "      <th>01 01 2018 00:30</th>\n",
       "      <td>271.258087</td>\n",
       "    </tr>\n",
       "    <tr>\n",
       "      <th>01 01 2018 00:40</th>\n",
       "      <td>265.674286</td>\n",
       "    </tr>\n",
       "  </tbody>\n",
       "</table>\n",
       "</div>"
      ],
      "text/plain": [
       "                  Wind Direction (°)\n",
       "Date/Time                           \n",
       "01 01 2018 00:00          259.994904\n",
       "01 01 2018 00:10          268.641113\n",
       "01 01 2018 00:20          272.564789\n",
       "01 01 2018 00:30          271.258087\n",
       "01 01 2018 00:40          265.674286"
      ]
     },
     "execution_count": 11,
     "metadata": {},
     "output_type": "execute_result"
    }
   ],
   "source": [
    "#del series['Air temperature | (\\'C)']\n",
    "del series['LV ActivePower (kW)']\n",
    "del series['Wind Speed (m/s)']\n",
    "del series['Theoretical_Power_Curve (KWh)']\n",
    "series.head()"
   ]
  },
  {
   "cell_type": "code",
   "execution_count": 12,
   "metadata": {
    "colab": {
     "base_uri": "https://localhost:8080/",
     "height": 235
    },
    "colab_type": "code",
    "id": "12fBM9geD_nR",
    "outputId": "91611e33-7a22-4d33-c7fc-a5276188ed50"
   },
   "outputs": [
    {
     "data": {
      "text/html": [
       "<div>\n",
       "<style scoped>\n",
       "    .dataframe tbody tr th:only-of-type {\n",
       "        vertical-align: middle;\n",
       "    }\n",
       "\n",
       "    .dataframe tbody tr th {\n",
       "        vertical-align: top;\n",
       "    }\n",
       "\n",
       "    .dataframe thead th {\n",
       "        text-align: right;\n",
       "    }\n",
       "</style>\n",
       "<table border=\"1\" class=\"dataframe\">\n",
       "  <thead>\n",
       "    <tr style=\"text-align: right;\">\n",
       "      <th></th>\n",
       "      <th>Wind Direction (°)</th>\n",
       "    </tr>\n",
       "    <tr>\n",
       "      <th>Date/Time</th>\n",
       "      <th></th>\n",
       "    </tr>\n",
       "  </thead>\n",
       "  <tbody>\n",
       "    <tr>\n",
       "      <th>31 12 2018 21:30</th>\n",
       "      <td>79.699562</td>\n",
       "    </tr>\n",
       "    <tr>\n",
       "      <th>31 12 2018 21:40</th>\n",
       "      <td>80.132507</td>\n",
       "    </tr>\n",
       "    <tr>\n",
       "      <th>31 12 2018 21:50</th>\n",
       "      <td>80.081612</td>\n",
       "    </tr>\n",
       "    <tr>\n",
       "      <th>31 12 2018 22:00</th>\n",
       "      <td>80.452248</td>\n",
       "    </tr>\n",
       "    <tr>\n",
       "      <th>31 12 2018 22:10</th>\n",
       "      <td>80.960693</td>\n",
       "    </tr>\n",
       "  </tbody>\n",
       "</table>\n",
       "</div>"
      ],
      "text/plain": [
       "                  Wind Direction (°)\n",
       "Date/Time                           \n",
       "31 12 2018 21:30           79.699562\n",
       "31 12 2018 21:40           80.132507\n",
       "31 12 2018 21:50           80.081612\n",
       "31 12 2018 22:00           80.452248\n",
       "31 12 2018 22:10           80.960693"
      ]
     },
     "execution_count": 12,
     "metadata": {},
     "output_type": "execute_result"
    }
   ],
   "source": [
    "for i in range(0,10):\n",
    "  series = series[:-1]\n",
    "series.tail()\n"
   ]
  },
  {
   "cell_type": "code",
   "execution_count": 13,
   "metadata": {
    "colab": {
     "base_uri": "https://localhost:8080/",
     "height": 34
    },
    "colab_type": "code",
    "id": "divvVUAdEBtP",
    "outputId": "59e008a9-1320-4ede-a34c-bfc00c20d00b"
   },
   "outputs": [
    {
     "data": {
      "text/plain": [
       "(50520, 1)"
      ]
     },
     "execution_count": 13,
     "metadata": {},
     "output_type": "execute_result"
    }
   ],
   "source": [
    "  series.shape"
   ]
  },
  {
   "cell_type": "code",
   "execution_count": 14,
   "metadata": {
    "colab": {},
    "colab_type": "code",
    "id": "R-GnhXw1EDBm"
   },
   "outputs": [],
   "source": [
    "# transform data to be stationary\n",
    "raw_values = series.values\n",
    "diff_values = difference(raw_values, 1)"
   ]
  },
  {
   "cell_type": "code",
   "execution_count": 15,
   "metadata": {
    "colab": {},
    "colab_type": "code",
    "id": "FT143z9qEFyj"
   },
   "outputs": [],
   "source": [
    "# transform data to be supervised learning\n",
    "supervised = timeseries_to_supervised(diff_values, lag_exp)\n",
    "supervised_values = supervised.values\n",
    "\n",
    "# print(supervised_values)"
   ]
  },
  {
   "cell_type": "code",
   "execution_count": 40,
   "metadata": {
    "colab": {},
    "colab_type": "code",
    "id": "vPGKF7H9EGId"
   },
   "outputs": [],
   "source": [
    "# split data into train and test-sets\n",
    "train, test = supervised_values[0:-predict_values_exp], supervised_values[-predict_values_exp:]"
   ]
  },
  {
   "cell_type": "code",
   "execution_count": 41,
   "metadata": {
    "colab": {},
    "colab_type": "code",
    "id": "s-wBkFR2EHVF"
   },
   "outputs": [],
   "source": [
    "# transform the scale of the data\n",
    "scaler, train_scaled, test_scaled = scale(train, test)"
   ]
  },
  {
   "cell_type": "code",
   "execution_count": 42,
   "metadata": {
    "colab": {
     "base_uri": "https://localhost:8080/",
     "height": 255
    },
    "colab_type": "code",
    "id": "ci0WpeU_FaWL",
    "outputId": "094345e2-1315-4c2c-d863-731bbded5c26"
   },
   "outputs": [
    {
     "name": "stdout",
     "output_type": "stream",
     "text": [
      "50447/50447 [==============================] - 182s 4ms/step - loss: 0.0111\n",
      "50447/50447 [==============================] - 170s 3ms/step - loss: 0.0108\n",
      "50447/50447 [==============================] - 160s 3ms/step - loss: 0.0107\n",
      "50447/50447 [==============================] - 159s 3ms/step - loss: 0.0107\n",
      "50447/50447 [==============================] - 158s 3ms/step - loss: 0.0106\n",
      "50447/50447 [==============================] - 157s 3ms/step - loss: 0.0105\n",
      "50447/50447 [==============================] - 156s 3ms/step - loss: 0.0104\n"
     ]
    }
   ],
   "source": [
    "lstm_model = fit_lstm(train_scaled, batch_size_exp, epoch_exp, neurons_exp)\n"
   ]
  },
  {
   "cell_type": "code",
   "execution_count": 43,
   "metadata": {
    "colab": {
     "base_uri": "https://localhost:8080/",
     "height": 1000
    },
    "colab_type": "code",
    "id": "gpmR3LBeFbpt",
    "outputId": "692e69de-c6bd-45ef-f7a3-b8a90a51132c"
   },
   "outputs": [
    {
     "name": "stdout",
     "output_type": "stream",
     "text": [
      "1/1 [==============================] - 3s 3s/step\n",
      "Hour=1, Predicted=89.466290, Expected=67.674561\n",
      "1/1 [==============================] - 0s 32ms/step\n",
      "Hour=2, Predicted=60.744115, Expected=71.880203\n",
      "1/1 [==============================] - 0s 36ms/step\n",
      "Hour=3, Predicted=60.303642, Expected=80.607429\n",
      "1/1 [==============================] - 0s 35ms/step\n",
      "Hour=4, Predicted=98.495925, Expected=81.242447\n",
      "1/1 [==============================] - 0s 32ms/step\n",
      "Hour=5, Predicted=66.891093, Expected=95.116180\n",
      "1/1 [==============================] - 0s 34ms/step\n",
      "Hour=6, Predicted=93.322056, Expected=108.525902\n",
      "1/1 [==============================] - 0s 40ms/step\n",
      "Hour=7, Predicted=118.740639, Expected=99.066834\n",
      "1/1 [==============================] - 0s 40ms/step\n",
      "Hour=8, Predicted=101.550148, Expected=83.458061\n",
      "1/1 [==============================] - 0s 42ms/step\n",
      "Hour=9, Predicted=85.619332, Expected=87.656326\n",
      "1/1 [==============================] - 0s 39ms/step\n",
      "Hour=10, Predicted=82.162299, Expected=78.961700\n",
      "1/1 [==============================] - 0s 41ms/step\n",
      "Hour=11, Predicted=78.651801, Expected=87.310623\n",
      "1/1 [==============================] - 0s 43ms/step\n",
      "Hour=12, Predicted=91.036806, Expected=89.737091\n",
      "1/1 [==============================] - 0s 35ms/step\n",
      "Hour=13, Predicted=97.893438, Expected=82.736252\n",
      "1/1 [==============================] - 0s 37ms/step\n",
      "Hour=14, Predicted=70.600718, Expected=81.974297\n",
      "1/1 [==============================] - 0s 44ms/step\n",
      "Hour=15, Predicted=82.782320, Expected=73.194389\n",
      "1/1 [==============================] - 0s 39ms/step\n",
      "Hour=16, Predicted=77.579614, Expected=75.005074\n",
      "1/1 [==============================] - 0s 42ms/step\n",
      "Hour=17, Predicted=84.289323, Expected=79.551987\n",
      "1/1 [==============================] - 0s 42ms/step\n",
      "Hour=18, Predicted=69.074974, Expected=76.018478\n",
      "1/1 [==============================] - 0s 40ms/step\n",
      "Hour=19, Predicted=73.279659, Expected=78.276291\n",
      "1/1 [==============================] - 0s 39ms/step\n",
      "Hour=20, Predicted=81.893308, Expected=68.145531\n",
      "1/1 [==============================] - 0s 40ms/step\n",
      "Hour=21, Predicted=71.973761, Expected=71.954659\n",
      "1/1 [==============================] - 0s 47ms/step\n",
      "Hour=22, Predicted=72.772679, Expected=69.709587\n",
      "1/1 [==============================] - 0s 48ms/step\n",
      "Hour=23, Predicted=70.175038, Expected=63.816212\n",
      "1/1 [==============================] - 0s 44ms/step\n",
      "Hour=24, Predicted=63.433309, Expected=56.398918\n",
      "1/1 [==============================] - 0s 42ms/step\n",
      "Hour=25, Predicted=56.054282, Expected=57.145569\n",
      "1/1 [==============================] - 0s 41ms/step\n",
      "Hour=26, Predicted=59.974656, Expected=55.499611\n",
      "1/1 [==============================] - 0s 48ms/step\n",
      "Hour=27, Predicted=55.857485, Expected=57.752941\n",
      "1/1 [==============================] - 0s 48ms/step\n",
      "Hour=28, Predicted=56.516352, Expected=65.545662\n",
      "1/1 [==============================] - 0s 41ms/step\n",
      "Hour=29, Predicted=68.328647, Expected=67.542412\n",
      "1/1 [==============================] - 0s 43ms/step\n",
      "Hour=30, Predicted=69.263285, Expected=67.638237\n",
      "1/1 [==============================] - 0s 38ms/step\n",
      "Hour=31, Predicted=68.112623, Expected=70.322388\n",
      "1/1 [==============================] - 0s 35ms/step\n",
      "Hour=32, Predicted=69.958684, Expected=72.430473\n",
      "1/1 [==============================] - 0s 39ms/step\n",
      "Hour=33, Predicted=73.168941, Expected=74.770714\n",
      "1/1 [==============================] - 0s 40ms/step\n",
      "Hour=34, Predicted=75.635561, Expected=74.835281\n",
      "1/1 [==============================] - 0s 43ms/step\n",
      "Hour=35, Predicted=77.251285, Expected=76.580833\n",
      "1/1 [==============================] - 0s 40ms/step\n",
      "Hour=36, Predicted=76.604674, Expected=74.678101\n",
      "1/1 [==============================] - 0s 46ms/step\n",
      "Hour=37, Predicted=74.494123, Expected=75.286987\n",
      "1/1 [==============================] - 0s 39ms/step\n",
      "Hour=38, Predicted=76.298481, Expected=76.233170\n",
      "1/1 [==============================] - 0s 42ms/step\n",
      "Hour=39, Predicted=78.346065, Expected=76.356567\n",
      "1/1 [==============================] - 0s 33ms/step\n",
      "Hour=40, Predicted=76.507744, Expected=76.052834\n",
      "1/1 [==============================] - 0s 40ms/step\n",
      "Hour=41, Predicted=75.762628, Expected=85.393311\n",
      "1/1 [==============================] - 0s 35ms/step\n",
      "Hour=42, Predicted=86.664291, Expected=85.161186\n",
      "1/1 [==============================] - 0s 41ms/step\n",
      "Hour=43, Predicted=86.494176, Expected=81.050690\n",
      "1/1 [==============================] - 0s 39ms/step\n",
      "Hour=44, Predicted=81.730138, Expected=86.718536\n",
      "1/1 [==============================] - 0s 43ms/step\n",
      "Hour=45, Predicted=87.344277, Expected=91.986732\n",
      "1/1 [==============================] - 0s 41ms/step\n",
      "Hour=46, Predicted=92.490652, Expected=94.691391\n",
      "1/1 [==============================] - 0s 39ms/step\n",
      "Hour=47, Predicted=95.346902, Expected=92.350723\n",
      "1/1 [==============================] - 0s 37ms/step\n",
      "Hour=48, Predicted=93.447321, Expected=91.588493\n",
      "1/1 [==============================] - 0s 40ms/step\n",
      "Hour=49, Predicted=92.485248, Expected=94.329742\n",
      "1/1 [==============================] - 0s 38ms/step\n",
      "Hour=50, Predicted=94.623069, Expected=98.706261\n",
      "1/1 [==============================] - 0s 38ms/step\n",
      "Hour=51, Predicted=99.577164, Expected=97.239059\n",
      "1/1 [==============================] - 0s 38ms/step\n",
      "Hour=52, Predicted=98.278740, Expected=99.136337\n",
      "1/1 [==============================] - 0s 41ms/step\n",
      "Hour=53, Predicted=99.856736, Expected=97.632187\n",
      "1/1 [==============================] - 0s 46ms/step\n",
      "Hour=54, Predicted=98.174657, Expected=90.309258\n",
      "1/1 [==============================] - 0s 41ms/step\n",
      "Hour=55, Predicted=91.079949, Expected=87.520317\n",
      "1/1 [==============================] - 0s 37ms/step\n",
      "Hour=56, Predicted=88.292320, Expected=84.240913\n",
      "1/1 [==============================] - 0s 40ms/step\n",
      "Hour=57, Predicted=85.185280, Expected=78.987038\n",
      "1/1 [==============================] - 0s 54ms/step\n",
      "Hour=58, Predicted=79.791049, Expected=79.042793\n",
      "1/1 [==============================] - 0s 41ms/step\n",
      "Hour=59, Predicted=79.601571, Expected=78.169724\n",
      "1/1 [==============================] - 0s 36ms/step\n",
      "Hour=60, Predicted=78.876084, Expected=78.773773\n",
      "1/1 [==============================] - 0s 48ms/step\n",
      "Hour=61, Predicted=79.752100, Expected=80.061111\n",
      "1/1 [==============================] - 0s 40ms/step\n",
      "Hour=62, Predicted=80.862858, Expected=81.279243\n",
      "1/1 [==============================] - 0s 40ms/step\n",
      "Hour=63, Predicted=81.860777, Expected=79.519127\n",
      "1/1 [==============================] - 0s 37ms/step\n",
      "Hour=64, Predicted=80.294972, Expected=81.056862\n",
      "1/1 [==============================] - 0s 33ms/step\n",
      "Hour=65, Predicted=81.945344, Expected=80.272682\n",
      "1/1 [==============================] - 0s 37ms/step\n",
      "Hour=66, Predicted=81.031565, Expected=79.394409\n",
      "1/1 [==============================] - 0s 33ms/step\n",
      "Hour=67, Predicted=80.134559, Expected=79.356262\n",
      "1/1 [==============================] - 0s 39ms/step\n",
      "Hour=68, Predicted=80.091454, Expected=79.699562\n",
      "1/1 [==============================] - 0s 35ms/step\n",
      "Hour=69, Predicted=80.442818, Expected=80.132507\n",
      "1/1 [==============================] - 0s 35ms/step\n",
      "Hour=70, Predicted=80.949608, Expected=80.081612\n",
      "1/1 [==============================] - 0s 30ms/step\n",
      "Hour=71, Predicted=80.901622, Expected=80.452248\n",
      "1/1 [==============================] - 0s 38ms/step\n",
      "Hour=72, Predicted=81.145499, Expected=80.960693\n"
     ]
    }
   ],
   "source": [
    "predictions = list()\n",
    "expectations = list()\n",
    "test_pred = list()\n",
    "for i in range(len(test_scaled)):\n",
    "    # make one-step forecast\n",
    "    X, y = test_scaled[i, 0:-1], test_scaled[i, -1]\n",
    "    yhat = forecast_lstm(lstm_model, 1, X)#batch_size_exp to 1\n",
    "    '''# Start Debug prints\n",
    "    print(\"X: %\", X)\n",
    "    print(\"yhat: %\", yhat)\n",
    "    # End Debug prints'''\n",
    "    # Replacing value in test scaled with the predicted value.\n",
    "    test_pred = [yhat] + test_pred \n",
    "    if len(test_pred) > lag_exp+1:\n",
    "        test_pred = test_pred[:-1]\n",
    "    if i+1<len(test_scaled):\n",
    "        if i+1 > lag_exp+1:\n",
    "            test_scaled[i+1] = test_pred\n",
    "        else:\n",
    "            test_scaled[i+1] = np.concatenate((test_pred, test_scaled[i+1, i+1:]),axis=0)\n",
    "\n",
    "    # invert scaling\n",
    "    yhat = invert_scale(scaler, X, yhat)\n",
    "    # invert differencing\n",
    "    yhat = inverse_difference(raw_values, yhat, len(test_scaled)+1-i)\n",
    "    # store forecast\n",
    "    expected = raw_values[len(train) + i + 1]\n",
    "    if expected != 0:\n",
    "        predictions.append(yhat)\n",
    "        expectations.append(expected)\n",
    "    print('Hour=%d, Predicted=%f, Expected=%f' % (i+1, yhat, expected))"
   ]
  },
  {
   "cell_type": "code",
   "execution_count": 44,
   "metadata": {
    "colab": {
     "base_uri": "https://localhost:8080/",
     "height": 34
    },
    "colab_type": "code",
    "id": "XFpsBVyQLiel",
    "outputId": "24eb6c08-5305-4d62-d681-3c94a73b8088"
   },
   "outputs": [
    {
     "name": "stdout",
     "output_type": "stream",
     "text": [
      "Mean Absolute Percent Error:  6.295435432699375\n"
     ]
    }
   ],
   "source": [
    "expectations = np.array(expectations)\n",
    "predictions = np.array(predictions)\n",
    "print(\"Mean Absolute Percent Error: \", (np.mean(np.abs((expectations - predictions) / expectations))*100))"
   ]
  },
  {
   "cell_type": "code",
   "execution_count": 45,
   "metadata": {
    "colab": {
     "base_uri": "https://localhost:8080/",
     "height": 279
    },
    "colab_type": "code",
    "id": "m9XDqSeEMPaD",
    "outputId": "8449efc3-5b1b-42f2-aac9-3f2c9eb07852"
   },
   "outputs": [
    {
     "data": {
      "image/png": "[encoded data removed]",
      "text/plain": [
       "<Figure size 432x288 with 1 Axes>"
      ]
     },
     "metadata": {
      "needs_background": "light"
     },
     "output_type": "display_data"
    }
   ],
   "source": [
    "# line plot of observed vs predicted\n",
    "pyplot.plot(raw_values[-predict_values_exp:], label=\"True\")\n",
    "pyplot.plot(predictions, label=\"Predicted\")\n",
    "pyplot.legend(loc='upper right')\n",
    "pyplot.xlabel(\"Number of hours\")\n",
    "pyplot.ylabel(\"wind direction\")\n",
    "pyplot.show()\n"
   ]
  },
  {
   "cell_type": "code",
   "execution_count": 46,
   "metadata": {
    "colab": {},
    "colab_type": "code",
    "id": "YF4xQengMRVZ"
   },
   "outputs": [],
   "source": [
    "# import pickle "
   ]
  },
  {
   "cell_type": "code",
   "execution_count": 47,
   "metadata": {
    "colab": {},
    "colab_type": "code",
    "id": "U38lg9myhTJU"
   },
   "outputs": [],
   "source": [
    "Pkl_Filename = \"Pickle_RL_Model.h5\"  \n",
    " \n",
    "lstm_model.save(Pkl_Filename)"
   ]
  },
  {
   "cell_type": "code",
   "execution_count": 48,
   "metadata": {
    "colab": {
     "base_uri": "https://localhost:8080/",
     "height": 34
    },
    "colab_type": "code",
    "id": "8ioI2bRtjtBB",
    "outputId": "64d9f014-c3e3-4b65-bfaa-d5c7cc88d89f"
   },
   "outputs": [
    {
     "name": "stdout",
     "output_type": "stream",
     "text": [
      "Model: \"sequential_2\"\n",
      "_________________________________________________________________\n",
      " Layer (type)                Output Shape              Param #   \n",
      "=================================================================\n",
      " lstm_2 (LSTM)               (1, 10)                   1400      \n",
      "                                                                 \n",
      " dense_2 (Dense)             (1, 1)                    11        \n",
      "                                                                 \n",
      "=================================================================\n",
      "Total params: 1,411\n",
      "Trainable params: 1,411\n",
      "Non-trainable params: 0\n",
      "_________________________________________________________________\n"
     ]
    }
   ],
   "source": [
    "from keras.models import load_model \n",
    "    \n",
    "Pickled_LR_Model = load_model(Pkl_Filename)\n",
    "\n",
    "Pickled_LR_Model.summary()"
   ]
  },
  {
   "cell_type": "code",
   "execution_count": 49,
   "metadata": {
    "colab": {},
    "colab_type": "code",
    "id": "3wS2wMpOrG-Q"
   },
   "outputs": [
    {
     "name": "stdout",
     "output_type": "stream",
     "text": [
      "72\n",
      "72\n",
      "R2 0.439264500498725\n"
     ]
    }
   ],
   "source": [
    "from sklearn.metrics import r2_score, mean_squared_error\n",
    "\n",
    "print(len(expectations))\n",
    "print(len(predictions))\n",
    "\n",
    "print('R2', r2_score(expectations, predictions))\n",
    "\n",
    "# score = Pickled_LR_Model.evaluate(np.asarray(train).astype(np.int32), np.asarray(test).astype(np.float32))   \n",
    "# # Print the Score\n",
    "# print(\"Test score: {0:.2f} %\".format(100 * score))  \n",
    "\n",
    "# # Predict the Labels using the reloaded Model\n",
    "# Ypredict = Pickled_LR_Model.predict(test)  \n",
    "\n",
    "# Ypredict\n",
    "     "
   ]
  },
  {
   "cell_type": "code",
   "execution_count": 26,
   "metadata": {
    "colab": {},
    "colab_type": "code",
    "id": "Ok29OHSms2GK"
   },
   "outputs": [
    {
     "ename": "NameError",
     "evalue": "name 'pickle' is not defined",
     "output_type": "error",
     "traceback": [
      "\u001b[1;31m---------------------------------------------------------------------------\u001b[0m",
      "\u001b[1;31mNameError\u001b[0m                                 Traceback (most recent call last)",
      "Input \u001b[1;32mIn [26]\u001b[0m, in \u001b[0;36m<cell line: 3>\u001b[1;34m()\u001b[0m\n\u001b[0;32m      1\u001b[0m \u001b[38;5;66;03m# save the model to disk\u001b[39;00m\n\u001b[0;32m      2\u001b[0m filename \u001b[38;5;241m=\u001b[39m \u001b[38;5;124m'\u001b[39m\u001b[38;5;124mfinalized_model.sav\u001b[39m\u001b[38;5;124m'\u001b[39m\n\u001b[1;32m----> 3\u001b[0m \u001b[43mpickle\u001b[49m\u001b[38;5;241m.\u001b[39mdump(lstm_model, \u001b[38;5;28mopen\u001b[39m(filename, \u001b[38;5;124m'\u001b[39m\u001b[38;5;124mwb\u001b[39m\u001b[38;5;124m'\u001b[39m))\n",
      "\u001b[1;31mNameError\u001b[0m: name 'pickle' is not defined"
     ]
    }
   ],
   "source": [
    "# save the model to disk\n",
    "filename = 'finalized_model.sav'\n",
    "pickle.dump(lstm_model, open(filename, 'wb'))"
   ]
  },
  {
   "cell_type": "code",
   "execution_count": null,
   "metadata": {
    "colab": {},
    "colab_type": "code",
    "id": "y7h-O20gtjOw"
   },
   "outputs": [],
   "source": [
    "loaded_model = pickle.load(open(filename, 'rb'))\n",
    "result = loaded_model.score(X_test, Y_test)\n",
    "print(result)"
   ]
  },
  {
   "cell_type": "code",
   "execution_count": null,
   "metadata": {
    "colab": {},
    "colab_type": "code",
    "id": "Nprjgsk0trBH"
   },
   "outputs": [],
   "source": []
  }
 ],
 "metadata": {
  "accelerator": "GPU",
  "colab": {
   "authorship_tag": "ABX9TyPIndqiBOprytzLAmrLza8j",
   "collapsed_sections": [],
   "include_colab_link": true,
   "mount_file_id": "1KpqlK7z4E_KeOm_MKmiTcDyXmTAGHznl",
   "name": "winddirectionlstm.ipynb",
   "provenance": []
  },
  "kernelspec": {
   "display_name": "Python 3 (ipykernel)",
   "language": "python",
   "name": "python3"
  },
  "language_info": {
   "codemirror_mode": {
    "name": "ipython",
    "version": 3
   },
   "file_extension": ".py",
   "mimetype": "text/x-python",
   "name": "python",
   "nbconvert_exporter": "python",
   "pygments_lexer": "ipython3",
   "version": "3.9.12"
  }
 },
 "nbformat": 4,
 "nbformat_minor": 1
}
