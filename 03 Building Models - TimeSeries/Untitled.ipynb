{
 "cells": [
  {
   "cell_type": "code",
   "execution_count": 15,
   "id": "c097c748",
   "metadata": {},
   "outputs": [],
   "source": [
    "import pandas as pd\n",
    "import numpy as np\n",
    "import matplotlib.pylab as plt\n",
    "import os"
   ]
  },
  {
   "cell_type": "code",
   "execution_count": 16,
   "id": "3eeea58e",
   "metadata": {},
   "outputs": [],
   "source": [
    "df = pd.read_csv('T1.csv', delimiter=',')"
   ]
  },
  {
   "cell_type": "code",
   "execution_count": 46,
   "id": "f5067cd3",
   "metadata": {},
   "outputs": [],
   "source": [
    "dataset = df[['Date/Time','Wind Direction (°)']]\n",
    "dataset = dataset.rename(columns = {\"Date/Time\" :\"timeStamp\",\"Wind Direction (°)\":\"windDirection\"})\n",
    "dataset = dataset[5000:8000]"
   ]
  },
  {
   "cell_type": "code",
   "execution_count": 47,
   "id": "71954c56",
   "metadata": {},
   "outputs": [],
   "source": [
    "newTime = []\n",
    "for i in dataset['timeStamp']:\n",
    "    # YYYY-MM-DD HH:MM:SS   => Required\n",
    "    # DD MM YYYY HH:MM      => my format\n",
    "    #print(\"{0}-{1}-{2} {3}:00\".format(i[6:10],i[3:5],i[:2],i[11:16]))\n",
    "    newTime.append(i[6:10] + \"-\" + i[3:5] + \"-\" + i[:2] + \" \" + i[11:16] + \":00\")\n",
    "dataset['timeStamp'] = newTime"
   ]
  },
  {
   "cell_type": "code",
   "execution_count": 48,
   "id": "d1941bde",
   "metadata": {},
   "outputs": [
    {
     "data": {
      "text/html": [
       "<div>\n",
       "<style scoped>\n",
       "    .dataframe tbody tr th:only-of-type {\n",
       "        vertical-align: middle;\n",
       "    }\n",
       "\n",
       "    .dataframe tbody tr th {\n",
       "        vertical-align: top;\n",
       "    }\n",
       "\n",
       "    .dataframe thead th {\n",
       "        text-align: right;\n",
       "    }\n",
       "</style>\n",
       "<table border=\"1\" class=\"dataframe\">\n",
       "  <thead>\n",
       "    <tr style=\"text-align: right;\">\n",
       "      <th></th>\n",
       "      <th>windDirection</th>\n",
       "    </tr>\n",
       "    <tr>\n",
       "      <th>timeStamp</th>\n",
       "      <th></th>\n",
       "    </tr>\n",
       "  </thead>\n",
       "  <tbody>\n",
       "    <tr>\n",
       "      <th>2018-02-09 05:10:00</th>\n",
       "      <td>212.558395</td>\n",
       "    </tr>\n",
       "    <tr>\n",
       "      <th>2018-02-09 05:20:00</th>\n",
       "      <td>218.988907</td>\n",
       "    </tr>\n",
       "    <tr>\n",
       "      <th>2018-02-09 05:30:00</th>\n",
       "      <td>217.286697</td>\n",
       "    </tr>\n",
       "    <tr>\n",
       "      <th>2018-02-09 05:40:00</th>\n",
       "      <td>220.837708</td>\n",
       "    </tr>\n",
       "    <tr>\n",
       "      <th>2018-02-09 05:50:00</th>\n",
       "      <td>225.290802</td>\n",
       "    </tr>\n",
       "    <tr>\n",
       "      <th>...</th>\n",
       "      <td>...</td>\n",
       "    </tr>\n",
       "    <tr>\n",
       "      <th>2018-03-02 00:20:00</th>\n",
       "      <td>202.606903</td>\n",
       "    </tr>\n",
       "    <tr>\n",
       "      <th>2018-03-02 00:30:00</th>\n",
       "      <td>200.007904</td>\n",
       "    </tr>\n",
       "    <tr>\n",
       "      <th>2018-03-02 00:40:00</th>\n",
       "      <td>200.687805</td>\n",
       "    </tr>\n",
       "    <tr>\n",
       "      <th>2018-03-02 00:50:00</th>\n",
       "      <td>203.033096</td>\n",
       "    </tr>\n",
       "    <tr>\n",
       "      <th>2018-03-02 01:00:00</th>\n",
       "      <td>203.105301</td>\n",
       "    </tr>\n",
       "  </tbody>\n",
       "</table>\n",
       "<p>3000 rows × 1 columns</p>\n",
       "</div>"
      ],
      "text/plain": [
       "                     windDirection\n",
       "timeStamp                         \n",
       "2018-02-09 05:10:00     212.558395\n",
       "2018-02-09 05:20:00     218.988907\n",
       "2018-02-09 05:30:00     217.286697\n",
       "2018-02-09 05:40:00     220.837708\n",
       "2018-02-09 05:50:00     225.290802\n",
       "...                            ...\n",
       "2018-03-02 00:20:00     202.606903\n",
       "2018-03-02 00:30:00     200.007904\n",
       "2018-03-02 00:40:00     200.687805\n",
       "2018-03-02 00:50:00     203.033096\n",
       "2018-03-02 01:00:00     203.105301\n",
       "\n",
       "[3000 rows x 1 columns]"
      ]
     },
     "execution_count": 48,
     "metadata": {},
     "output_type": "execute_result"
    },
    {
     "data": {
      "image/png": "[encoded data removed]",
      "text/plain": [
       "<Figure size 432x288 with 1 Axes>"
      ]
     },
     "metadata": {
      "needs_background": "light"
     },
     "output_type": "display_data"
    }
   ],
   "source": [
    "dataset.index = pd.to_datetime(dataset.timeStamp)\n",
    "# dataset.index = pd.DatetimeIndex(dataset.index).to_period('H')\n",
    "# dataset.index = pd.DatetimeIndex(dataset.index)\n",
    "dataset = dataset.drop('timeStamp', axis=1)\n",
    "\n",
    "dataset.plot()\n",
    "\n",
    "dataset = dataset.sort_index()\n",
    "dataset.fillna(df.mean(numeric_only=True))"
   ]
  },
  {
   "cell_type": "code",
   "execution_count": 49,
   "id": "c5a5d122",
   "metadata": {},
   "outputs": [
    {
     "data": {
      "text/plain": [
       "DatetimeIndex(['2018-02-09 05:10:00', '2018-02-09 05:20:00',\n",
       "               '2018-02-09 05:30:00', '2018-02-09 05:40:00',\n",
       "               '2018-02-09 05:50:00', '2018-02-09 06:00:00',\n",
       "               '2018-02-09 06:10:00', '2018-02-09 06:20:00',\n",
       "               '2018-02-09 06:30:00', '2018-02-09 06:40:00',\n",
       "               ...\n",
       "               '2018-03-01 23:30:00', '2018-03-01 23:40:00',\n",
       "               '2018-03-01 23:50:00', '2018-03-02 00:00:00',\n",
       "               '2018-03-02 00:10:00', '2018-03-02 00:20:00',\n",
       "               '2018-03-02 00:30:00', '2018-03-02 00:40:00',\n",
       "               '2018-03-02 00:50:00', '2018-03-02 01:00:00'],\n",
       "              dtype='datetime64[ns]', name='timeStamp', length=3000, freq=None)"
      ]
     },
     "execution_count": 49,
     "metadata": {},
     "output_type": "execute_result"
    }
   ],
   "source": [
    "# Testing whether there are null values\n",
    "dataset[dataset.isnull()]\n",
    "len(dataset[dataset.isnull()])\n",
    "dataset = dataset.sort_index()\n",
    "dataset.index"
   ]
  },
  {
   "cell_type": "code",
   "execution_count": 50,
   "id": "be8a1be6",
   "metadata": {},
   "outputs": [
    {
     "data": {
      "text/html": [
       "<div>\n",
       "<style scoped>\n",
       "    .dataframe tbody tr th:only-of-type {\n",
       "        vertical-align: middle;\n",
       "    }\n",
       "\n",
       "    .dataframe tbody tr th {\n",
       "        vertical-align: top;\n",
       "    }\n",
       "\n",
       "    .dataframe thead th {\n",
       "        text-align: right;\n",
       "    }\n",
       "</style>\n",
       "<table border=\"1\" class=\"dataframe\">\n",
       "  <thead>\n",
       "    <tr style=\"text-align: right;\">\n",
       "      <th></th>\n",
       "      <th>windDirection</th>\n",
       "    </tr>\n",
       "  </thead>\n",
       "  <tbody>\n",
       "    <tr>\n",
       "      <th>count</th>\n",
       "      <td>3000.000000</td>\n",
       "    </tr>\n",
       "    <tr>\n",
       "      <th>mean</th>\n",
       "      <td>134.921301</td>\n",
       "    </tr>\n",
       "    <tr>\n",
       "      <th>std</th>\n",
       "      <td>80.474205</td>\n",
       "    </tr>\n",
       "    <tr>\n",
       "      <th>min</th>\n",
       "      <td>0.218672</td>\n",
       "    </tr>\n",
       "    <tr>\n",
       "      <th>25%</th>\n",
       "      <td>66.365105</td>\n",
       "    </tr>\n",
       "    <tr>\n",
       "      <th>50%</th>\n",
       "      <td>114.994701</td>\n",
       "    </tr>\n",
       "    <tr>\n",
       "      <th>75%</th>\n",
       "      <td>200.378448</td>\n",
       "    </tr>\n",
       "    <tr>\n",
       "      <th>max</th>\n",
       "      <td>355.202911</td>\n",
       "    </tr>\n",
       "  </tbody>\n",
       "</table>\n",
       "</div>"
      ],
      "text/plain": [
       "       windDirection\n",
       "count    3000.000000\n",
       "mean      134.921301\n",
       "std        80.474205\n",
       "min         0.218672\n",
       "25%        66.365105\n",
       "50%       114.994701\n",
       "75%       200.378448\n",
       "max       355.202911"
      ]
     },
     "execution_count": 50,
     "metadata": {},
     "output_type": "execute_result"
    }
   ],
   "source": [
    "# Replacing NaN values with the previous effective data\n",
    "dataset.windDirection.fillna(method='pad', inplace=True)\n",
    "dataset[dataset.windDirection.isnull()]\n",
    "\n",
    "dataset.describe()"
   ]
  },
  {
   "cell_type": "code",
   "execution_count": 51,
   "id": "ce22e96f",
   "metadata": {},
   "outputs": [
    {
     "data": {
      "image/png": "[encoded data removed]",
      "text/plain": [
       "<Figure size 432x288 with 1 Axes>"
      ]
     },
     "metadata": {
      "needs_background": "light"
     },
     "output_type": "display_data"
    },
    {
     "name": "stdout",
     "output_type": "stream",
     "text": [
      "Augmented Dickey-Fuller test:\n",
      "type of df_test:  <class 'tuple'>\n",
      "df_test:  (-4.257019703867187, 0.0005268200477753433, 11, 2988, {'1%': -3.432540403849221, '5%': -2.862507778275112, '10%': -2.5672851740608125}, 28732.703226480862)\n",
      "df_output: \n",
      " Test Statistic                   -4.257020\n",
      "p-value                           0.000527\n",
      "#Lags Used                       11.000000\n",
      "Number of Observations Used    2988.000000\n",
      "dtype: float64\n",
      "Test Statistic                   -4.257020\n",
      "p-value                           0.000527\n",
      "#Lags Used                       11.000000\n",
      "Number of Observations Used    2988.000000\n",
      "Critical Value (1%)              -3.432540\n",
      "Critical Value (5%)              -2.862508\n",
      "Critical Value (10%)             -2.567285\n",
      "dtype: float64\n"
     ]
    }
   ],
   "source": [
    "from statsmodels.tsa.stattools import adfuller\n",
    "\n",
    "def stationarity_check(ts):    \n",
    "    # Determing rolling statistics\n",
    "    #roll_mean = pd.rolling_mean(ts, window=12)\n",
    "    roll_mean = ts.rolling(12).mean()\n",
    "    \n",
    "    # Plot rolling statistics:\n",
    "    plt.plot(ts, color='green',label='Original')\n",
    "    plt.plot(roll_mean, color='blue', label='Rolling Mean')\n",
    "    plt.legend(loc='best')\n",
    "    plt.title('Rolling Mean')\n",
    "    plt.show(block=False)\n",
    "    \n",
    "    # Perform Augmented Dickey-Fuller test:\n",
    "    print('Augmented Dickey-Fuller test:')\n",
    "    df_test = adfuller(ts)\n",
    "    print(\"type of df_test: \",type(df_test))\n",
    "    print(\"df_test: \",df_test)\n",
    "    df_output = pd.Series(df_test[0:4], index=['Test Statistic','p-value','#Lags Used','Number of Observations Used'])\n",
    "    print(\"df_output: \\n\",df_output)\n",
    "    for key,value in df_test[4].items():\n",
    "        df_output['Critical Value (%s)'%key] = value\n",
    "    print(df_output)\n",
    "    \n",
    "stationarity_check(dataset.windDirection)"
   ]
  },
  {
   "cell_type": "code",
   "execution_count": 52,
   "id": "f935a4f9",
   "metadata": {},
   "outputs": [
    {
     "data": {
      "text/plain": [
       "Rolling [window=12,center=False,axis=0,method=single]"
      ]
     },
     "execution_count": 52,
     "metadata": {},
     "output_type": "execute_result"
    }
   ],
   "source": [
    "#dfIndia['Roll_Mean'] = pd.rolling_mean(dfIndia.AverageTemperature, window=12)\n",
    "dataset['Roll_Mean'] = dataset.windDirection.rolling(12).mean()\n",
    "dataset.windDirection.rolling(12)"
   ]
  },
  {
   "cell_type": "code",
   "execution_count": 53,
   "id": "5872be2a",
   "metadata": {},
   "outputs": [
    {
     "name": "stderr",
     "output_type": "stream",
     "text": [
      "C:\\Users\\ujjwa\\anaconda3\\lib\\site-packages\\statsmodels\\graphics\\tsaplots.py:348: FutureWarning: The default method 'yw' can produce PACF values outside of the [-1,1] interval. After 0.13, the default will change tounadjusted Yule-Walker ('ywm'). You can use this method now by setting method='ywm'.\n",
      "  warnings.warn(\n"
     ]
    },
    {
     "data": {
      "image/png": "[encoded data removed]",
      "text/plain": [
       "<Figure size 432x288 with 1 Axes>"
      ]
     },
     "metadata": {
      "needs_background": "light"
     },
     "output_type": "display_data"
    },
    {
     "data": {
      "image/png": "[encoded data removed]",
      "text/plain": [
       "<Figure size 432x288 with 1 Axes>"
      ]
     },
     "metadata": {
      "needs_background": "light"
     },
     "output_type": "display_data"
    }
   ],
   "source": [
    "from statsmodels.graphics.tsaplots import plot_pacf,plot_acf\n",
    "plot_acf(dataset.windDirection, lags=50)\n",
    "plot_pacf(dataset.windDirection, lags=50)\n",
    "plt.xlabel('lags')\n",
    "plt.show()"
   ]
  },
  {
   "cell_type": "code",
   "execution_count": 54,
   "id": "4db56e62",
   "metadata": {},
   "outputs": [
    {
     "name": "stderr",
     "output_type": "stream",
     "text": [
      "C:\\Users\\ujjwa\\anaconda3\\lib\\site-packages\\statsmodels\\tsa\\base\\tsa_model.py:471: ValueWarning: No frequency information was provided, so inferred frequency 10T will be used.\n",
      "  self._init_dates(dates, freq)\n",
      "C:\\Users\\ujjwa\\anaconda3\\lib\\site-packages\\statsmodels\\tsa\\base\\tsa_model.py:471: ValueWarning: No frequency information was provided, so inferred frequency 10T will be used.\n",
      "  self._init_dates(dates, freq)\n",
      "C:\\Users\\ujjwa\\anaconda3\\lib\\site-packages\\statsmodels\\tsa\\base\\tsa_model.py:471: ValueWarning: No frequency information was provided, so inferred frequency 10T will be used.\n",
      "  self._init_dates(dates, freq)\n"
     ]
    },
    {
     "name": "stdout",
     "output_type": "stream",
     "text": [
      "ARMA(0, 0) - AIC:34844.25181467514\n"
     ]
    },
    {
     "name": "stderr",
     "output_type": "stream",
     "text": [
      "C:\\Users\\ujjwa\\anaconda3\\lib\\site-packages\\statsmodels\\tsa\\base\\tsa_model.py:471: ValueWarning: No frequency information was provided, so inferred frequency 10T will be used.\n",
      "  self._init_dates(dates, freq)\n",
      "C:\\Users\\ujjwa\\anaconda3\\lib\\site-packages\\statsmodels\\tsa\\base\\tsa_model.py:471: ValueWarning: No frequency information was provided, so inferred frequency 10T will be used.\n",
      "  self._init_dates(dates, freq)\n",
      "C:\\Users\\ujjwa\\anaconda3\\lib\\site-packages\\statsmodels\\tsa\\base\\tsa_model.py:471: ValueWarning: No frequency information was provided, so inferred frequency 10T will be used.\n",
      "  self._init_dates(dates, freq)\n"
     ]
    },
    {
     "name": "stdout",
     "output_type": "stream",
     "text": [
      "ARMA(0, 1) - AIC:32740.559675582124\n"
     ]
    },
    {
     "name": "stderr",
     "output_type": "stream",
     "text": [
      "C:\\Users\\ujjwa\\anaconda3\\lib\\site-packages\\statsmodels\\tsa\\base\\tsa_model.py:471: ValueWarning: No frequency information was provided, so inferred frequency 10T will be used.\n",
      "  self._init_dates(dates, freq)\n",
      "C:\\Users\\ujjwa\\anaconda3\\lib\\site-packages\\statsmodels\\tsa\\base\\tsa_model.py:471: ValueWarning: No frequency information was provided, so inferred frequency 10T will be used.\n",
      "  self._init_dates(dates, freq)\n",
      "C:\\Users\\ujjwa\\anaconda3\\lib\\site-packages\\statsmodels\\tsa\\base\\tsa_model.py:471: ValueWarning: No frequency information was provided, so inferred frequency 10T will be used.\n",
      "  self._init_dates(dates, freq)\n"
     ]
    },
    {
     "name": "stdout",
     "output_type": "stream",
     "text": [
      "ARMA(0, 2) - AIC:31517.33458271275\n"
     ]
    },
    {
     "name": "stderr",
     "output_type": "stream",
     "text": [
      "C:\\Users\\ujjwa\\anaconda3\\lib\\site-packages\\statsmodels\\tsa\\base\\tsa_model.py:471: ValueWarning: No frequency information was provided, so inferred frequency 10T will be used.\n",
      "  self._init_dates(dates, freq)\n",
      "C:\\Users\\ujjwa\\anaconda3\\lib\\site-packages\\statsmodels\\tsa\\base\\tsa_model.py:471: ValueWarning: No frequency information was provided, so inferred frequency 10T will be used.\n",
      "  self._init_dates(dates, freq)\n",
      "C:\\Users\\ujjwa\\anaconda3\\lib\\site-packages\\statsmodels\\tsa\\base\\tsa_model.py:471: ValueWarning: No frequency information was provided, so inferred frequency 10T will be used.\n",
      "  self._init_dates(dates, freq)\n"
     ]
    },
    {
     "name": "stdout",
     "output_type": "stream",
     "text": [
      "ARMA(0, 3) - AIC:30855.529531578624\n"
     ]
    },
    {
     "name": "stderr",
     "output_type": "stream",
     "text": [
      "C:\\Users\\ujjwa\\anaconda3\\lib\\site-packages\\statsmodels\\tsa\\base\\tsa_model.py:471: ValueWarning: No frequency information was provided, so inferred frequency 10T will be used.\n",
      "  self._init_dates(dates, freq)\n",
      "C:\\Users\\ujjwa\\anaconda3\\lib\\site-packages\\statsmodels\\tsa\\base\\tsa_model.py:471: ValueWarning: No frequency information was provided, so inferred frequency 10T will be used.\n",
      "  self._init_dates(dates, freq)\n",
      "C:\\Users\\ujjwa\\anaconda3\\lib\\site-packages\\statsmodels\\tsa\\base\\tsa_model.py:471: ValueWarning: No frequency information was provided, so inferred frequency 10T will be used.\n",
      "  self._init_dates(dates, freq)\n"
     ]
    },
    {
     "name": "stdout",
     "output_type": "stream",
     "text": [
      "ARMA(1, 0) - AIC:29650.654041567366\n"
     ]
    },
    {
     "name": "stderr",
     "output_type": "stream",
     "text": [
      "C:\\Users\\ujjwa\\anaconda3\\lib\\site-packages\\statsmodels\\tsa\\base\\tsa_model.py:471: ValueWarning: No frequency information was provided, so inferred frequency 10T will be used.\n",
      "  self._init_dates(dates, freq)\n",
      "C:\\Users\\ujjwa\\anaconda3\\lib\\site-packages\\statsmodels\\tsa\\base\\tsa_model.py:471: ValueWarning: No frequency information was provided, so inferred frequency 10T will be used.\n",
      "  self._init_dates(dates, freq)\n",
      "C:\\Users\\ujjwa\\anaconda3\\lib\\site-packages\\statsmodels\\tsa\\base\\tsa_model.py:471: ValueWarning: No frequency information was provided, so inferred frequency 10T will be used.\n",
      "  self._init_dates(dates, freq)\n"
     ]
    },
    {
     "name": "stdout",
     "output_type": "stream",
     "text": [
      "ARMA(1, 1) - AIC:29072.499302595097\n"
     ]
    },
    {
     "name": "stderr",
     "output_type": "stream",
     "text": [
      "C:\\Users\\ujjwa\\anaconda3\\lib\\site-packages\\statsmodels\\tsa\\base\\tsa_model.py:471: ValueWarning: No frequency information was provided, so inferred frequency 10T will be used.\n",
      "  self._init_dates(dates, freq)\n",
      "C:\\Users\\ujjwa\\anaconda3\\lib\\site-packages\\statsmodels\\tsa\\base\\tsa_model.py:471: ValueWarning: No frequency information was provided, so inferred frequency 10T will be used.\n",
      "  self._init_dates(dates, freq)\n",
      "C:\\Users\\ujjwa\\anaconda3\\lib\\site-packages\\statsmodels\\tsa\\base\\tsa_model.py:471: ValueWarning: No frequency information was provided, so inferred frequency 10T will be used.\n",
      "  self._init_dates(dates, freq)\n"
     ]
    },
    {
     "name": "stdout",
     "output_type": "stream",
     "text": [
      "ARMA(1, 2) - AIC:29064.583427259953\n"
     ]
    },
    {
     "name": "stderr",
     "output_type": "stream",
     "text": [
      "C:\\Users\\ujjwa\\anaconda3\\lib\\site-packages\\statsmodels\\tsa\\base\\tsa_model.py:471: ValueWarning: No frequency information was provided, so inferred frequency 10T will be used.\n",
      "  self._init_dates(dates, freq)\n",
      "C:\\Users\\ujjwa\\anaconda3\\lib\\site-packages\\statsmodels\\tsa\\base\\tsa_model.py:471: ValueWarning: No frequency information was provided, so inferred frequency 10T will be used.\n",
      "  self._init_dates(dates, freq)\n",
      "C:\\Users\\ujjwa\\anaconda3\\lib\\site-packages\\statsmodels\\tsa\\base\\tsa_model.py:471: ValueWarning: No frequency information was provided, so inferred frequency 10T will be used.\n",
      "  self._init_dates(dates, freq)\n"
     ]
    },
    {
     "name": "stdout",
     "output_type": "stream",
     "text": [
      "ARMA(1, 3) - AIC:29042.286098654324\n"
     ]
    },
    {
     "name": "stderr",
     "output_type": "stream",
     "text": [
      "C:\\Users\\ujjwa\\anaconda3\\lib\\site-packages\\statsmodels\\tsa\\base\\tsa_model.py:471: ValueWarning: No frequency information was provided, so inferred frequency 10T will be used.\n",
      "  self._init_dates(dates, freq)\n",
      "C:\\Users\\ujjwa\\anaconda3\\lib\\site-packages\\statsmodels\\tsa\\base\\tsa_model.py:471: ValueWarning: No frequency information was provided, so inferred frequency 10T will be used.\n",
      "  self._init_dates(dates, freq)\n",
      "C:\\Users\\ujjwa\\anaconda3\\lib\\site-packages\\statsmodels\\tsa\\base\\tsa_model.py:471: ValueWarning: No frequency information was provided, so inferred frequency 10T will be used.\n",
      "  self._init_dates(dates, freq)\n"
     ]
    },
    {
     "name": "stdout",
     "output_type": "stream",
     "text": [
      "ARMA(2, 0) - AIC:29094.271280193796\n"
     ]
    },
    {
     "name": "stderr",
     "output_type": "stream",
     "text": [
      "C:\\Users\\ujjwa\\anaconda3\\lib\\site-packages\\statsmodels\\tsa\\base\\tsa_model.py:471: ValueWarning: No frequency information was provided, so inferred frequency 10T will be used.\n",
      "  self._init_dates(dates, freq)\n",
      "C:\\Users\\ujjwa\\anaconda3\\lib\\site-packages\\statsmodels\\tsa\\base\\tsa_model.py:471: ValueWarning: No frequency information was provided, so inferred frequency 10T will be used.\n",
      "  self._init_dates(dates, freq)\n",
      "C:\\Users\\ujjwa\\anaconda3\\lib\\site-packages\\statsmodels\\tsa\\base\\tsa_model.py:471: ValueWarning: No frequency information was provided, so inferred frequency 10T will be used.\n",
      "  self._init_dates(dates, freq)\n"
     ]
    },
    {
     "name": "stdout",
     "output_type": "stream",
     "text": [
      "ARMA(2, 1) - AIC:29059.52964274263\n"
     ]
    },
    {
     "name": "stderr",
     "output_type": "stream",
     "text": [
      "C:\\Users\\ujjwa\\anaconda3\\lib\\site-packages\\statsmodels\\tsa\\base\\tsa_model.py:471: ValueWarning: No frequency information was provided, so inferred frequency 10T will be used.\n",
      "  self._init_dates(dates, freq)\n",
      "C:\\Users\\ujjwa\\anaconda3\\lib\\site-packages\\statsmodels\\tsa\\base\\tsa_model.py:471: ValueWarning: No frequency information was provided, so inferred frequency 10T will be used.\n",
      "  self._init_dates(dates, freq)\n",
      "C:\\Users\\ujjwa\\anaconda3\\lib\\site-packages\\statsmodels\\tsa\\base\\tsa_model.py:471: ValueWarning: No frequency information was provided, so inferred frequency 10T will be used.\n",
      "  self._init_dates(dates, freq)\n"
     ]
    },
    {
     "name": "stdout",
     "output_type": "stream",
     "text": [
      "ARMA(2, 2) - AIC:29057.47809991535\n"
     ]
    },
    {
     "name": "stderr",
     "output_type": "stream",
     "text": [
      "C:\\Users\\ujjwa\\anaconda3\\lib\\site-packages\\statsmodels\\tsa\\base\\tsa_model.py:471: ValueWarning: No frequency information was provided, so inferred frequency 10T will be used.\n",
      "  self._init_dates(dates, freq)\n",
      "C:\\Users\\ujjwa\\anaconda3\\lib\\site-packages\\statsmodels\\tsa\\base\\tsa_model.py:471: ValueWarning: No frequency information was provided, so inferred frequency 10T will be used.\n",
      "  self._init_dates(dates, freq)\n",
      "C:\\Users\\ujjwa\\anaconda3\\lib\\site-packages\\statsmodels\\tsa\\base\\tsa_model.py:471: ValueWarning: No frequency information was provided, so inferred frequency 10T will be used.\n",
      "  self._init_dates(dates, freq)\n"
     ]
    },
    {
     "name": "stdout",
     "output_type": "stream",
     "text": [
      "ARMA(2, 3) - AIC:29015.43106001582\n"
     ]
    },
    {
     "name": "stderr",
     "output_type": "stream",
     "text": [
      "C:\\Users\\ujjwa\\anaconda3\\lib\\site-packages\\statsmodels\\tsa\\base\\tsa_model.py:471: ValueWarning: No frequency information was provided, so inferred frequency 10T will be used.\n",
      "  self._init_dates(dates, freq)\n",
      "C:\\Users\\ujjwa\\anaconda3\\lib\\site-packages\\statsmodels\\tsa\\base\\tsa_model.py:471: ValueWarning: No frequency information was provided, so inferred frequency 10T will be used.\n",
      "  self._init_dates(dates, freq)\n",
      "C:\\Users\\ujjwa\\anaconda3\\lib\\site-packages\\statsmodels\\tsa\\base\\tsa_model.py:471: ValueWarning: No frequency information was provided, so inferred frequency 10T will be used.\n",
      "  self._init_dates(dates, freq)\n"
     ]
    },
    {
     "name": "stdout",
     "output_type": "stream",
     "text": [
      "ARMA(3, 0) - AIC:29067.58916127504\n"
     ]
    },
    {
     "name": "stderr",
     "output_type": "stream",
     "text": [
      "C:\\Users\\ujjwa\\anaconda3\\lib\\site-packages\\statsmodels\\tsa\\base\\tsa_model.py:471: ValueWarning: No frequency information was provided, so inferred frequency 10T will be used.\n",
      "  self._init_dates(dates, freq)\n",
      "C:\\Users\\ujjwa\\anaconda3\\lib\\site-packages\\statsmodels\\tsa\\base\\tsa_model.py:471: ValueWarning: No frequency information was provided, so inferred frequency 10T will be used.\n",
      "  self._init_dates(dates, freq)\n",
      "C:\\Users\\ujjwa\\anaconda3\\lib\\site-packages\\statsmodels\\tsa\\base\\tsa_model.py:471: ValueWarning: No frequency information was provided, so inferred frequency 10T will be used.\n",
      "  self._init_dates(dates, freq)\n"
     ]
    },
    {
     "name": "stdout",
     "output_type": "stream",
     "text": [
      "ARMA(3, 1) - AIC:29017.015308118745\n"
     ]
    },
    {
     "name": "stderr",
     "output_type": "stream",
     "text": [
      "C:\\Users\\ujjwa\\anaconda3\\lib\\site-packages\\statsmodels\\tsa\\base\\tsa_model.py:471: ValueWarning: No frequency information was provided, so inferred frequency 10T will be used.\n",
      "  self._init_dates(dates, freq)\n",
      "C:\\Users\\ujjwa\\anaconda3\\lib\\site-packages\\statsmodels\\tsa\\base\\tsa_model.py:471: ValueWarning: No frequency information was provided, so inferred frequency 10T will be used.\n",
      "  self._init_dates(dates, freq)\n",
      "C:\\Users\\ujjwa\\anaconda3\\lib\\site-packages\\statsmodels\\tsa\\base\\tsa_model.py:471: ValueWarning: No frequency information was provided, so inferred frequency 10T will be used.\n",
      "  self._init_dates(dates, freq)\n"
     ]
    },
    {
     "name": "stdout",
     "output_type": "stream",
     "text": [
      "ARMA(3, 2) - AIC:29017.772919387124\n"
     ]
    },
    {
     "name": "stderr",
     "output_type": "stream",
     "text": [
      "C:\\Users\\ujjwa\\anaconda3\\lib\\site-packages\\statsmodels\\tsa\\base\\tsa_model.py:471: ValueWarning: No frequency information was provided, so inferred frequency 10T will be used.\n",
      "  self._init_dates(dates, freq)\n",
      "C:\\Users\\ujjwa\\anaconda3\\lib\\site-packages\\statsmodels\\tsa\\base\\tsa_model.py:471: ValueWarning: No frequency information was provided, so inferred frequency 10T will be used.\n",
      "  self._init_dates(dates, freq)\n",
      "C:\\Users\\ujjwa\\anaconda3\\lib\\site-packages\\statsmodels\\tsa\\base\\tsa_model.py:471: ValueWarning: No frequency information was provided, so inferred frequency 10T will be used.\n",
      "  self._init_dates(dates, freq)\n",
      "C:\\Users\\ujjwa\\anaconda3\\lib\\site-packages\\statsmodels\\tsa\\statespace\\sarimax.py:966: UserWarning: Non-stationary starting autoregressive parameters found. Using zeros as starting parameters.\n",
      "  warn('Non-stationary starting autoregressive parameters'\n",
      "C:\\Users\\ujjwa\\anaconda3\\lib\\site-packages\\statsmodels\\tsa\\statespace\\sarimax.py:978: UserWarning: Non-invertible starting MA parameters found. Using zeros as starting parameters.\n",
      "  warn('Non-invertible starting MA parameters found.'\n"
     ]
    },
    {
     "name": "stdout",
     "output_type": "stream",
     "text": [
      "ARMA(3, 3) - AIC:29045.529645745333\n"
     ]
    }
   ],
   "source": [
    "import statsmodels.api as sm\n",
    "\n",
    "import itertools\n",
    "p = q = range(0, 4)\n",
    "pq = itertools.product(p, q)\n",
    "for param in pq:\n",
    "    try:\n",
    "        mod = sm.tsa.arima.ARIMA(dataset.windDirection,order=(param[0], 0, param[1]))\n",
    "        results = mod.fit()\n",
    "        print('ARMA{} - AIC:{}'.format(param, results.aic))\n",
    "    except:\n",
    "        continue"
   ]
  },
  {
   "cell_type": "code",
   "execution_count": 67,
   "id": "cf850b16",
   "metadata": {},
   "outputs": [
    {
     "name": "stderr",
     "output_type": "stream",
     "text": [
      "C:\\Users\\ujjwa\\anaconda3\\lib\\site-packages\\statsmodels\\tsa\\base\\tsa_model.py:471: ValueWarning: No frequency information was provided, so inferred frequency 10T will be used.\n",
      "  self._init_dates(dates, freq)\n",
      "C:\\Users\\ujjwa\\anaconda3\\lib\\site-packages\\statsmodels\\tsa\\base\\tsa_model.py:471: ValueWarning: No frequency information was provided, so inferred frequency 10T will be used.\n",
      "  self._init_dates(dates, freq)\n",
      "C:\\Users\\ujjwa\\anaconda3\\lib\\site-packages\\statsmodels\\tsa\\base\\tsa_model.py:471: ValueWarning: No frequency information was provided, so inferred frequency 10T will be used.\n",
      "  self._init_dates(dates, freq)\n"
     ]
    }
   ],
   "source": [
    "model = sm.tsa.arima.ARIMA(dataset.windDirection, order=(1,0,2))  \n",
    "results_MA = model.fit()  "
   ]
  },
  {
   "cell_type": "code",
   "execution_count": 68,
   "id": "5f74871a",
   "metadata": {},
   "outputs": [
    {
     "data": {
      "image/png": "[encoded data removed]",
      "text/plain": [
       "<Figure size 432x288 with 1 Axes>"
      ]
     },
     "metadata": {
      "needs_background": "light"
     },
     "output_type": "display_data"
    }
   ],
   "source": [
    "plt.plot(dataset.windDirection)\n",
    "plt.plot(results_MA.fittedvalues, color='red')\n",
    "plt.title('Fitting data _ MSE: %.2f'% (((results_MA.fittedvalues-dataset.windDirection)**2).mean()))\n",
    "plt.show()"
   ]
  },
  {
   "cell_type": "code",
   "execution_count": 70,
   "id": "ce135e0e",
   "metadata": {},
   "outputs": [
    {
     "data": {
      "text/plain": [
       "2018-12-01 18:50:00    134.923122\n",
       "Freq: 10T, dtype: float64"
      ]
     },
     "execution_count": 70,
     "metadata": {},
     "output_type": "execute_result"
    }
   ],
   "source": [
    "dataset.index.is_unique\n",
    "predictions = results_MA.predict('2018-12-01 18:50:00')\n",
    "predictions\n",
    "# predictions.plot()"
   ]
  },
  {
   "cell_type": "code",
   "execution_count": 59,
   "id": "85cfe50b",
   "metadata": {},
   "outputs": [
    {
     "data": {
      "text/plain": [
       "['humidityModel.pkl']"
      ]
     },
     "execution_count": 59,
     "metadata": {},
     "output_type": "execute_result"
    }
   ],
   "source": [
    "import joblib \n",
    "joblib.dump(results_MA, 'humidityModel.pkl') "
   ]
  },
  {
   "cell_type": "code",
   "execution_count": null,
   "id": "330dce91",
   "metadata": {},
   "outputs": [],
   "source": []
  },
  {
   "cell_type": "code",
   "execution_count": null,
   "id": "0c1095ea",
   "metadata": {},
   "outputs": [],
   "source": []
  },
  {
   "cell_type": "code",
   "execution_count": null,
   "id": "09a58057",
   "metadata": {},
   "outputs": [],
   "source": []
  },
  {
   "cell_type": "code",
   "execution_count": null,
   "id": "cca92e26",
   "metadata": {},
   "outputs": [],
   "source": []
  },
  {
   "cell_type": "code",
   "execution_count": null,
   "id": "659a0dda",
   "metadata": {},
   "outputs": [],
   "source": []
  }
 ],
 "metadata": {
  "kernelspec": {
   "display_name": "Python 3 (ipykernel)",
   "language": "python",
   "name": "python3"
  },
  "language_info": {
   "codemirror_mode": {
    "name": "ipython",
    "version": 3
   },
   "file_extension": ".py",
   "mimetype": "text/x-python",
   "name": "python",
   "nbconvert_exporter": "python",
   "pygments_lexer": "ipython3",
   "version": "3.9.12"
  }
 },
 "nbformat": 4,
 "nbformat_minor": 5
}
