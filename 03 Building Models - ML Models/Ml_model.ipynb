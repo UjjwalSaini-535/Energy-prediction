{
 "cells": [
  {
   "cell_type": "code",
   "execution_count": 1,
   "metadata": {
    "colab": {},
    "colab_type": "code",
    "id": "4kD0OTy7W2Wl"
   },
   "outputs": [],
   "source": [
    "import numpy as np\n",
    "import pandas as pd\n",
    "import matplotlib.pyplot as plt\n",
    "import seaborn as sns\n"
   ]
  },
  {
   "cell_type": "code",
   "execution_count": 2,
   "metadata": {
    "colab": {},
    "colab_type": "code",
    "id": "DLXGyQxgxWNj"
   },
   "outputs": [],
   "source": [
    "df=pd.read_csv('./../data/T1.csv')"
   ]
  },
  {
   "cell_type": "code",
   "execution_count": 3,
   "metadata": {
    "colab": {},
    "colab_type": "code",
    "id": "3ZpYHryyx7In"
   },
   "outputs": [],
   "source": [
    "df.drop(columns=df[['Date/Time','Theoretical_Power_Curve (KWh)']],inplace=True)\n",
    "y=df['LV ActivePower (kW)']\n",
    "df.drop(columns=['LV ActivePower (kW)'],axis=1,inplace=True)"
   ]
  },
  {
   "cell_type": "code",
   "execution_count": 4,
   "metadata": {
    "colab": {},
    "colab_type": "code",
    "id": "5gS9NUaPkiHM"
   },
   "outputs": [],
   "source": [
    "df['Wind Direction (°)']=(df['Wind Direction (°)']-df['Wind Direction (°)'].mean())/(df['Wind Direction (°)'].std())\n",
    "df['Wind Speed (m/s)']=(df['Wind Speed (m/s)']-df['Wind Speed (m/s)'].mean())/(df['Wind Speed (m/s)'].std())"
   ]
  },
  {
   "cell_type": "code",
   "execution_count": 5,
   "metadata": {
    "colab": {},
    "colab_type": "code",
    "id": "x993RDqYx7Qr"
   },
   "outputs": [],
   "source": [
    "y_train=y[:42283]\n",
    "y_test=y[42283:]\n",
    "X_train=df.iloc[:42283]\n",
    "X_test=df.iloc[42283:]"
   ]
  },
  {
   "cell_type": "code",
   "execution_count": 7,
   "metadata": {
    "colab": {
     "base_uri": "https://localhost:8080/",
     "height": 208
    },
    "colab_type": "code",
    "id": "gnbiP24Qx7Kt",
    "outputId": "40585450-8e85-4bbe-e49f-7dc61d46080a"
   },
   "outputs": [
    {
     "name": "stderr",
     "output_type": "stream",
     "text": [
      "C:\\Users\\ujjwa\\anaconda3\\lib\\site-packages\\xgboost\\compat.py:36: FutureWarning: pandas.Int64Index is deprecated and will be removed from pandas in a future version. Use pandas.Index with the appropriate dtype instead.\n",
      "  from pandas import MultiIndex, Int64Index\n",
      "C:\\Users\\ujjwa\\anaconda3\\lib\\site-packages\\xgboost\\data.py:250: FutureWarning: pandas.Int64Index is deprecated and will be removed from pandas in a future version. Use pandas.Index with the appropriate dtype instead.\n",
      "  elif isinstance(data.columns, (pd.Int64Index, pd.RangeIndex)):\n"
     ]
    },
    {
     "name": "stdout",
     "output_type": "stream",
     "text": [
      "R2-xgb 0.8395859974534264\n",
      "RMSE-xgb 550.0442599352245\n",
      "R2-rf 0.8215557741487284\n",
      "RMSE-rf 580.1332386911062\n",
      "R2-lr 0.8184357809853167\n",
      "RMSE-lr 585.1829072911474\n",
      "R2-dt 0.7188135735442038\n",
      "RMSE-dt 728.2385676290643\n",
      "R2-svm 0.8891384161563984\n",
      "RMSE-svm 457.26402913238\n"
     ]
    }
   ],
   "source": [
    "from sklearn.tree import DecisionTreeRegressor\n",
    "from sklearn.svm import SVR\n",
    "from sklearn.linear_model import LinearRegression\n",
    "from sklearn.ensemble import RandomForestRegressor\n",
    "from xgboost import XGBRegressor\n",
    "from sklearn.metrics import accuracy_score,r2_score,mean_squared_error\n",
    "\n",
    "xgr=XGBRegressor()\n",
    "rf=RandomForestRegressor()\n",
    "lr=LinearRegression()\n",
    "dt=DecisionTreeRegressor()\n",
    "sm=SVR()\n",
    "\n",
    "\n",
    "model_xg=xgr.fit(X_train,y_train)\n",
    "y_xg=model_xg.predict(X_test)\n",
    "model_rf=rf.fit(X_train,y_train)\n",
    "y_rf=model_rf.predict(X_test)\n",
    "model_lr=lr.fit(X_train,y_train)\n",
    "y_lr=model_lr.predict(X_test)\n",
    "model_dt=dt.fit(X_train,y_train)\n",
    "y_dt=model_dt.predict(X_test)\n",
    "model_sm=sm.fit(X_train,y_train)\n",
    "y_sm=model_sm.predict(X_test)\n",
    "\n",
    "\n",
    "print('R2-xgb',r2_score(y_test,y_xg))\n",
    "print('RMSE-xgb',np.sqrt(mean_squared_error(y_test,y_xg)))\n",
    "\n",
    "print('R2-rf',r2_score(y_test,y_rf))\n",
    "print('RMSE-rf',np.sqrt(mean_squared_error(y_test,y_rf)))\n",
    "\n",
    "print('R2-lr',r2_score(y_test,y_lr))\n",
    "print('RMSE-lr',np.sqrt(mean_squared_error(y_test,y_lr)))\n",
    "\n",
    "print('R2-dt',r2_score(y_test,y_dt))\n",
    "print('RMSE-dt',np.sqrt(mean_squared_error(y_test,y_dt)))\n",
    "\n",
    "print('R2-svm',r2_score(y_test,y_sm))\n",
    "print('RMSE-svm',np.sqrt(mean_squared_error(y_test,y_sm)))\n",
    "\n",
    "\n",
    "\n"
   ]
  },
  {
   "cell_type": "code",
   "execution_count": 13,
   "metadata": {
    "colab": {},
    "colab_type": "code",
    "id": "H8ypzZ6g4N_D"
   },
   "outputs": [],
   "source": [
    "params_rf={\n",
    " \"learning_rate\"    : [0.05, 0.01,0.03,0.1, 0.15, 0.2] ,\n",
    " \"n_estimators\"     : [50, 100, 150, 200, 500, 800,1000,1500] ,\n",
    " \"max_depth\"        : [ 3, 4, 5, 6, 8, 10, 12, 15,20,25],\n",
    " \"min_child_weight\" : [ 1, 3, 5, 7 ,10,15,20,25],\n",
    " \"gamma\"            : [ 0.0, 0.1, 0.2 , 0.3, 0.4 ],\n",
    " \"subsample\"        : [ 0.1, 0.2 , 0.3, 0.4,0.6,0.8,1 ],\n",
    " \"reg_lambda\"       : [ 0.0, 0.1, 0.2 , 0.3, 0.4 ,0.6,0.8,1],\n",
    " \"reg_alpha\"        : [ 0.0, 0.1, 0.2 , 0.3, 0.4 ],\n",
    " \"colsample_bytree\" : [ 0.3, 0.4, 0.5 , 0.7,0.9 ],\n",
    " \"colsample_bylevel\" : [ 0.3, 0.4, 0.5 , 0.7,0.9 ]\n",
    "    \n",
    "}"
   ]
  },
  {
   "cell_type": "code",
   "execution_count": 14,
   "metadata": {
    "colab": {},
    "colab_type": "code",
    "id": "B4eaSqNG4OOY"
   },
   "outputs": [],
   "source": [
    "from sklearn.model_selection import RandomizedSearchCV, GridSearchCV"
   ]
  },
  {
   "cell_type": "code",
   "execution_count": 15,
   "metadata": {
    "colab": {},
    "colab_type": "code",
    "id": "oPh2KEv84OP4"
   },
   "outputs": [],
   "source": [
    "def timer(start_time=None):\n",
    "    if not start_time:\n",
    "        start_time = datetime.now()\n",
    "        return start_time\n",
    "    elif start_time:\n",
    "        thour, temp_sec = divmod((datetime.now() - start_time).total_seconds(), 3600)\n",
    "        tmin, tsec = divmod(temp_sec, 60)\n",
    "        print('\\n Time taken: %i hours %i minutes and %s seconds.' % (thour, tmin, round(tsec, 2)))"
   ]
  },
  {
   "cell_type": "code",
   "execution_count": 16,
   "metadata": {
    "colab": {},
    "colab_type": "code",
    "id": "xocMCTrYjusm"
   },
   "outputs": [
    {
     "name": "stdout",
     "output_type": "stream",
     "text": [
      "Fitting 5 folds for each of 10 candidates, totalling 50 fits\n"
     ]
    },
    {
     "name": "stderr",
     "output_type": "stream",
     "text": [
      "C:\\Users\\ujjwa\\anaconda3\\lib\\site-packages\\xgboost\\data.py:250: FutureWarning: pandas.Int64Index is deprecated and will be removed from pandas in a future version. Use pandas.Index with the appropriate dtype instead.\n",
      "  elif isinstance(data.columns, (pd.Int64Index, pd.RangeIndex)):\n"
     ]
    },
    {
     "name": "stdout",
     "output_type": "stream",
     "text": [
      "\n",
      " Time taken: 0 hours 7 minutes and 34.1 seconds.\n"
     ]
    }
   ],
   "source": [
    "random_search=RandomizedSearchCV(xgr,param_distributions=params_rf,n_iter=10,n_jobs=-1,cv=5,verbose=3)\n",
    "from datetime import datetime\n",
    "start_time = timer(None) # timing starts from this point for \"start_time\" variable\n",
    "random_search.fit(X_train,y_train)\n",
    "timer(start_time) # timing ends here for \"start_time\" variable\n"
   ]
  },
  {
   "cell_type": "code",
   "execution_count": 17,
   "metadata": {
    "colab": {},
    "colab_type": "code",
    "id": "WjRwsoffkEuw"
   },
   "outputs": [
    {
     "data": {
      "text/plain": [
       "XGBRegressor(base_score=0.5, booster='gbtree', colsample_bylevel=0.7,\n",
       "             colsample_bynode=1, colsample_bytree=0.4, enable_categorical=False,\n",
       "             gamma=0.2, gpu_id=-1, importance_type=None,\n",
       "             interaction_constraints='', learning_rate=0.01, max_delta_step=0,\n",
       "             max_depth=5, min_child_weight=3, missing=nan,\n",
       "             monotone_constraints='()', n_estimators=1500, n_jobs=4,\n",
       "             num_parallel_tree=1, predictor='auto', random_state=0,\n",
       "             reg_alpha=0.0, reg_lambda=0.0, scale_pos_weight=1, subsample=0.8,\n",
       "             tree_method='exact', validate_parameters=1, verbosity=None)"
      ]
     },
     "execution_count": 17,
     "metadata": {},
     "output_type": "execute_result"
    }
   ],
   "source": [
    "random_search.best_estimator_"
   ]
  },
  {
   "cell_type": "code",
   "execution_count": 18,
   "metadata": {
    "colab": {
     "base_uri": "https://localhost:8080/",
     "height": 52
    },
    "colab_type": "code",
    "id": "ZTfSP1foIw5g",
    "outputId": "46f5913b-9431-495f-8c73-899cef0a9d93"
   },
   "outputs": [
    {
     "data": {
      "text/plain": [
       "0.8395859974534264"
      ]
     },
     "execution_count": 18,
     "metadata": {},
     "output_type": "execute_result"
    }
   ],
   "source": [
    "xg=XGBRegressor(base_score=0.5, booster='gbtree', colsample_bylevel=0.7,\n",
    "             colsample_bynode=1, colsample_bytree=0.3, gamma=0.2,\n",
    "             importance_type='gain', learning_rate=0.03, max_delta_step=0,\n",
    "             max_depth=8, min_child_weight=25, missing=None, n_estimators=800,\n",
    "             n_jobs=1, nthread=None, objective='reg:linear', random_state=0,\n",
    "             reg_alpha=0.2, reg_lambda=0.8, scale_pos_weight=1, seed=None,\n",
    "             silent=None, subsample=0.1, verbosity=1)\n",
    "x=xgr.fit(X_train,y_train)\n",
    "y1=x.predict(X_test)\n",
    "r2_score(y_test,y1)"
   ]
  },
  {
   "cell_type": "code",
   "execution_count": 19,
   "metadata": {
    "colab": {},
    "colab_type": "code",
    "id": "ywJiNmSwPVVq"
   },
   "outputs": [],
   "source": [
    "r=RandomForestRegressor()\n",
    "params_rf={\n",
    "\"n_estimators\"     : [50, 100, 150, 200, 500, 800,1000,1500] ,\n",
    " \"max_depth\"        : [ 3, 4, 5, 6, 8, 10, 12, 15,20,25]}"
   ]
  },
  {
   "cell_type": "code",
   "execution_count": 20,
   "metadata": {
    "colab": {},
    "colab_type": "code",
    "id": "zyNCyJ214Oa8"
   },
   "outputs": [],
   "source": [
    "random_search=RandomizedSearchCV(rf,param_distributions=params_rf,n_iter=10,n_jobs=-1,cv=5,verbose=3)"
   ]
  },
  {
   "cell_type": "code",
   "execution_count": 21,
   "metadata": {
    "colab": {
     "base_uri": "https://localhost:8080/",
     "height": 176
    },
    "colab_type": "code",
    "id": "zf50i-ZK4OTn",
    "outputId": "4b2091e7-dd62-4db7-cfec-e14a6c5f22a3"
   },
   "outputs": [
    {
     "name": "stdout",
     "output_type": "stream",
     "text": [
      "Fitting 5 folds for each of 10 candidates, totalling 50 fits\n",
      "\n",
      " Time taken: 0 hours 16 minutes and 57.5 seconds.\n"
     ]
    }
   ],
   "source": [
    "from datetime import datetime\n",
    "# Here we go\n",
    "start_time = timer(None) # timing starts from this point for \"start_time\" variable\n",
    "random_search.fit(X_train,y_train)\n",
    "timer(start_time) # timing ends here for \"start_time\" variable"
   ]
  },
  {
   "cell_type": "code",
   "execution_count": 22,
   "metadata": {
    "colab": {
     "base_uri": "https://localhost:8080/",
     "height": 138
    },
    "colab_type": "code",
    "id": "3eMs-KWU4OI1",
    "outputId": "8450222d-8949-4ae0-b2f4-d66f255530de"
   },
   "outputs": [
    {
     "data": {
      "text/plain": [
       "RandomForestRegressor(max_depth=3, n_estimators=1500)"
      ]
     },
     "execution_count": 22,
     "metadata": {},
     "output_type": "execute_result"
    }
   ],
   "source": [
    "random_search.best_estimator_"
   ]
  },
  {
   "cell_type": "code",
   "execution_count": 23,
   "metadata": {
    "colab": {
     "base_uri": "https://localhost:8080/",
     "height": 34
    },
    "colab_type": "code",
    "id": "qIZFkzGW4OH5",
    "outputId": "9e9b7b39-a033-4921-b7a3-053e16f5abf2"
   },
   "outputs": [
    {
     "data": {
      "text/plain": [
       "0.8191929654425595"
      ]
     },
     "execution_count": 23,
     "metadata": {},
     "output_type": "execute_result"
    }
   ],
   "source": [
    "sv=SVR(gamma='auto',C=100,epsilon=0.4)\n",
    "x=rf.fit(X_train,y_train)\n",
    "y1=x.predict(X_test)\n",
    "r2_score(y_test,y1)"
   ]
  },
  {
   "cell_type": "code",
   "execution_count": null,
   "metadata": {},
   "outputs": [],
   "source": []
  }
 ],
 "metadata": {
  "accelerator": "GPU",
  "colab": {
   "collapsed_sections": [],
   "name": "Ml model.ipynb",
   "provenance": []
  },
  "kernelspec": {
   "display_name": "Python 3 (ipykernel)",
   "language": "python",
   "name": "python3"
  },
  "language_info": {
   "codemirror_mode": {
    "name": "ipython",
    "version": 3
   },
   "file_extension": ".py",
   "mimetype": "text/x-python",
   "name": "python",
   "nbconvert_exporter": "python",
   "pygments_lexer": "ipython3",
   "version": "3.9.12"
  }
 },
 "nbformat": 4,
 "nbformat_minor": 1
}
